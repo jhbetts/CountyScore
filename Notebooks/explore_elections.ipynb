{
 "cells": [
  {
   "cell_type": "markdown",
   "id": "ff6c3852",
   "metadata": {},
   "source": [
    "# Explore elections data to determine political leanings of county\n",
    "\n",
    "Source: MIT Election Data and Science Lab, 2018, \"County Presidential Election Returns 2000-2020\", https://doi.org/10.7910/DVN/VOQCHQ, Harvard Dataverse, V13, UNF:6:GILlTHRWH0LbH2TItBsb2w== [fileUNF] "
   ]
  },
  {
   "cell_type": "code",
   "execution_count": 34,
   "id": "08cf980d",
   "metadata": {},
   "outputs": [
    {
     "data": {
      "application/vnd.microsoft.datawrangler.viewer.v0+json": {
       "columns": [
        {
         "name": "index",
         "rawType": "int64",
         "type": "integer"
        },
        {
         "name": "fips",
         "rawType": "object",
         "type": "string"
        },
        {
         "name": "StateName",
         "rawType": "object",
         "type": "string"
        },
        {
         "name": "RegionName",
         "rawType": "object",
         "type": "string"
        },
        {
         "name": "AverageHomeValue",
         "rawType": "float32",
         "type": "float"
        },
        {
         "name": "HousingScore",
         "rawType": "float32",
         "type": "float"
        },
        {
         "name": "Houses",
         "rawType": "object",
         "type": "string"
        },
        {
         "name": "WinterAvg",
         "rawType": "float64",
         "type": "float"
        },
        {
         "name": "Winter_Low_Temp_Score",
         "rawType": "float64",
         "type": "float"
        },
        {
         "name": "Winter_High_Temp_Score",
         "rawType": "float64",
         "type": "float"
        },
        {
         "name": "SummerAvg",
         "rawType": "float64",
         "type": "float"
        },
        {
         "name": "Summer_Low_Temp_Score",
         "rawType": "float64",
         "type": "float"
        },
        {
         "name": "Summer_High_Temp_Score",
         "rawType": "float64",
         "type": "float"
        },
        {
         "name": "Median_Household_Income_2022",
         "rawType": "float64",
         "type": "float"
        },
        {
         "name": "Unemployment_rate_2023",
         "rawType": "float64",
         "type": "float"
        },
        {
         "name": "IncomeScore",
         "rawType": "float64",
         "type": "float"
        },
        {
         "name": "UnemploymentScore",
         "rawType": "float64",
         "type": "float"
        },
        {
         "name": "Jobs",
         "rawType": "object",
         "type": "string"
        },
        {
         "name": "Summary",
         "rawType": "object",
         "type": "unknown"
        },
        {
         "name": "Pop_Est_July_1_2024",
         "rawType": "float64",
         "type": "float"
        },
        {
         "name": "Low_Pop_Score",
         "rawType": "float64",
         "type": "float"
        },
        {
         "name": "High_Pop_Score",
         "rawType": "float64",
         "type": "float"
        }
       ],
       "ref": "941ed97f-2d5d-4acb-98ff-656bca4aa98a",
       "rows": [
        [
         "0",
         "06037",
         "CA",
         "Los Angeles County",
         "898170.75",
         "0.2734413",
         "https://www.zillow.com/Los-Angeles-County-CA",
         "59.1",
         "0.2554186242457268",
         "0.7445813757542732",
         "76.7",
         "0.36893059615971513",
         "0.6310694038402849",
         "82455.0",
         "5.0",
         "0.5958723051840371",
         "0.3061323708844206",
         "https://www.indeed.com/jobs?q=&l=Los+Angeles+County%2C+CA",
         null,
         "9757179.0",
         "0.0",
         "1.0"
        ],
        [
         "1",
         "17031",
         "IL",
         "Cook County",
         "322945.47",
         "0.5070355",
         "https://www.zillow.com/Cook-County-IL",
         "45.2",
         "0.5291607265528677",
         "0.4708392734471323",
         "73.1",
         "0.45101071270488813",
         "0.5489892872951119",
         "76614.0",
         "4.4",
         "0.5540141087605566",
         "0.3376597400961091",
         "https://www.indeed.com/jobs?q=&l=Cook+County%2C+IL",
         null,
         "5182617.0",
         "0.051765421774215725",
         "0.9482345782257843"
        ],
        [
         "2",
         "48201",
         "TX",
         "Harris County",
         "287587.97",
         "0.53351593",
         "https://www.zillow.com/Harris-County-TX",
         "68.4",
         "0.1062200323694169",
         "0.8937799676305831",
         "84.6",
         "0.2015504321282151",
         "0.7984495678717849",
         "68748.0",
         "4.3",
         "0.49229622232388426",
         "0.34332961346726454",
         "https://www.indeed.com/jobs?q=&l=Harris+County%2C+TX",
         null,
         "5009302.0",
         "0.05454832852693203",
         "0.945451671473068"
        ],
        [
         "3",
         "04013",
         "AZ",
         "Maricopa County",
         "470511.5",
         "0.42109156",
         "https://www.zillow.com/Maricopa-County-AZ",
         "64.6",
         "0.1645739667727124",
         "0.8354260332272876",
         "92.5",
         "0.04912392927877196",
         "0.950876070721228",
         "83668.0",
         "3.4",
         "0.604192285564122",
         "0.4012477799520362",
         "https://www.indeed.com/jobs?q=&l=Maricopa+County%2C+AZ",
         null,
         "4673096.0",
         "0.0602325863039771",
         "0.9397674136960229"
        ],
        [
         "4",
         "06073",
         "CA",
         "San Diego County",
         "945139.1",
         "0.26180077",
         "https://www.zillow.com/San-Diego-County-CA",
         "60.8",
         "0.2264666080662021",
         "0.7735333919337979",
         "77.3",
         "0.3556261630069457",
         "0.6443738369930543",
         "98365.0",
         "3.9",
         "0.6963875177069383",
         "0.3674100553960591",
         "https://www.indeed.com/jobs?q=&l=San+Diego+County%2C+CA",
         null,
         "3298799.0",
         "0.08872664859454138",
         "0.9112733514054586"
        ]
       ],
       "shape": {
        "columns": 21,
        "rows": 5
       }
      },
      "text/html": [
       "<div>\n",
       "<style scoped>\n",
       "    .dataframe tbody tr th:only-of-type {\n",
       "        vertical-align: middle;\n",
       "    }\n",
       "\n",
       "    .dataframe tbody tr th {\n",
       "        vertical-align: top;\n",
       "    }\n",
       "\n",
       "    .dataframe thead th {\n",
       "        text-align: right;\n",
       "    }\n",
       "</style>\n",
       "<table border=\"1\" class=\"dataframe\">\n",
       "  <thead>\n",
       "    <tr style=\"text-align: right;\">\n",
       "      <th></th>\n",
       "      <th>fips</th>\n",
       "      <th>StateName</th>\n",
       "      <th>RegionName</th>\n",
       "      <th>AverageHomeValue</th>\n",
       "      <th>HousingScore</th>\n",
       "      <th>Houses</th>\n",
       "      <th>WinterAvg</th>\n",
       "      <th>Winter_Low_Temp_Score</th>\n",
       "      <th>Winter_High_Temp_Score</th>\n",
       "      <th>SummerAvg</th>\n",
       "      <th>...</th>\n",
       "      <th>Summer_High_Temp_Score</th>\n",
       "      <th>Median_Household_Income_2022</th>\n",
       "      <th>Unemployment_rate_2023</th>\n",
       "      <th>IncomeScore</th>\n",
       "      <th>UnemploymentScore</th>\n",
       "      <th>Jobs</th>\n",
       "      <th>Summary</th>\n",
       "      <th>Pop_Est_July_1_2024</th>\n",
       "      <th>Low_Pop_Score</th>\n",
       "      <th>High_Pop_Score</th>\n",
       "    </tr>\n",
       "  </thead>\n",
       "  <tbody>\n",
       "    <tr>\n",
       "      <th>0</th>\n",
       "      <td>06037</td>\n",
       "      <td>CA</td>\n",
       "      <td>Los Angeles County</td>\n",
       "      <td>898170.75000</td>\n",
       "      <td>0.273441</td>\n",
       "      <td>https://www.zillow.com/Los-Angeles-County-CA</td>\n",
       "      <td>59.1</td>\n",
       "      <td>0.255419</td>\n",
       "      <td>0.744581</td>\n",
       "      <td>76.7</td>\n",
       "      <td>...</td>\n",
       "      <td>0.631069</td>\n",
       "      <td>82455.0</td>\n",
       "      <td>5.0</td>\n",
       "      <td>0.595872</td>\n",
       "      <td>0.306132</td>\n",
       "      <td>https://www.indeed.com/jobs?q=&amp;l=Los+Angeles+C...</td>\n",
       "      <td>None</td>\n",
       "      <td>9757179.0</td>\n",
       "      <td>0.000000</td>\n",
       "      <td>1.000000</td>\n",
       "    </tr>\n",
       "    <tr>\n",
       "      <th>1</th>\n",
       "      <td>17031</td>\n",
       "      <td>IL</td>\n",
       "      <td>Cook County</td>\n",
       "      <td>322945.46875</td>\n",
       "      <td>0.507035</td>\n",
       "      <td>https://www.zillow.com/Cook-County-IL</td>\n",
       "      <td>45.2</td>\n",
       "      <td>0.529161</td>\n",
       "      <td>0.470839</td>\n",
       "      <td>73.1</td>\n",
       "      <td>...</td>\n",
       "      <td>0.548989</td>\n",
       "      <td>76614.0</td>\n",
       "      <td>4.4</td>\n",
       "      <td>0.554014</td>\n",
       "      <td>0.337660</td>\n",
       "      <td>https://www.indeed.com/jobs?q=&amp;l=Cook+County%2...</td>\n",
       "      <td>None</td>\n",
       "      <td>5182617.0</td>\n",
       "      <td>0.051765</td>\n",
       "      <td>0.948235</td>\n",
       "    </tr>\n",
       "    <tr>\n",
       "      <th>2</th>\n",
       "      <td>48201</td>\n",
       "      <td>TX</td>\n",
       "      <td>Harris County</td>\n",
       "      <td>287587.96875</td>\n",
       "      <td>0.533516</td>\n",
       "      <td>https://www.zillow.com/Harris-County-TX</td>\n",
       "      <td>68.4</td>\n",
       "      <td>0.106220</td>\n",
       "      <td>0.893780</td>\n",
       "      <td>84.6</td>\n",
       "      <td>...</td>\n",
       "      <td>0.798450</td>\n",
       "      <td>68748.0</td>\n",
       "      <td>4.3</td>\n",
       "      <td>0.492296</td>\n",
       "      <td>0.343330</td>\n",
       "      <td>https://www.indeed.com/jobs?q=&amp;l=Harris+County...</td>\n",
       "      <td>None</td>\n",
       "      <td>5009302.0</td>\n",
       "      <td>0.054548</td>\n",
       "      <td>0.945452</td>\n",
       "    </tr>\n",
       "    <tr>\n",
       "      <th>3</th>\n",
       "      <td>04013</td>\n",
       "      <td>AZ</td>\n",
       "      <td>Maricopa County</td>\n",
       "      <td>470511.50000</td>\n",
       "      <td>0.421092</td>\n",
       "      <td>https://www.zillow.com/Maricopa-County-AZ</td>\n",
       "      <td>64.6</td>\n",
       "      <td>0.164574</td>\n",
       "      <td>0.835426</td>\n",
       "      <td>92.5</td>\n",
       "      <td>...</td>\n",
       "      <td>0.950876</td>\n",
       "      <td>83668.0</td>\n",
       "      <td>3.4</td>\n",
       "      <td>0.604192</td>\n",
       "      <td>0.401248</td>\n",
       "      <td>https://www.indeed.com/jobs?q=&amp;l=Maricopa+Coun...</td>\n",
       "      <td>None</td>\n",
       "      <td>4673096.0</td>\n",
       "      <td>0.060233</td>\n",
       "      <td>0.939767</td>\n",
       "    </tr>\n",
       "    <tr>\n",
       "      <th>4</th>\n",
       "      <td>06073</td>\n",
       "      <td>CA</td>\n",
       "      <td>San Diego County</td>\n",
       "      <td>945139.12500</td>\n",
       "      <td>0.261801</td>\n",
       "      <td>https://www.zillow.com/San-Diego-County-CA</td>\n",
       "      <td>60.8</td>\n",
       "      <td>0.226467</td>\n",
       "      <td>0.773533</td>\n",
       "      <td>77.3</td>\n",
       "      <td>...</td>\n",
       "      <td>0.644374</td>\n",
       "      <td>98365.0</td>\n",
       "      <td>3.9</td>\n",
       "      <td>0.696388</td>\n",
       "      <td>0.367410</td>\n",
       "      <td>https://www.indeed.com/jobs?q=&amp;l=San+Diego+Cou...</td>\n",
       "      <td>None</td>\n",
       "      <td>3298799.0</td>\n",
       "      <td>0.088727</td>\n",
       "      <td>0.911273</td>\n",
       "    </tr>\n",
       "  </tbody>\n",
       "</table>\n",
       "<p>5 rows × 21 columns</p>\n",
       "</div>"
      ],
      "text/plain": [
       "    fips StateName          RegionName  AverageHomeValue  HousingScore  \\\n",
       "0  06037        CA  Los Angeles County      898170.75000      0.273441   \n",
       "1  17031        IL         Cook County      322945.46875      0.507035   \n",
       "2  48201        TX       Harris County      287587.96875      0.533516   \n",
       "3  04013        AZ     Maricopa County      470511.50000      0.421092   \n",
       "4  06073        CA    San Diego County      945139.12500      0.261801   \n",
       "\n",
       "                                         Houses  WinterAvg  \\\n",
       "0  https://www.zillow.com/Los-Angeles-County-CA       59.1   \n",
       "1         https://www.zillow.com/Cook-County-IL       45.2   \n",
       "2       https://www.zillow.com/Harris-County-TX       68.4   \n",
       "3     https://www.zillow.com/Maricopa-County-AZ       64.6   \n",
       "4    https://www.zillow.com/San-Diego-County-CA       60.8   \n",
       "\n",
       "   Winter_Low_Temp_Score  Winter_High_Temp_Score  SummerAvg  ...  \\\n",
       "0               0.255419                0.744581       76.7  ...   \n",
       "1               0.529161                0.470839       73.1  ...   \n",
       "2               0.106220                0.893780       84.6  ...   \n",
       "3               0.164574                0.835426       92.5  ...   \n",
       "4               0.226467                0.773533       77.3  ...   \n",
       "\n",
       "   Summer_High_Temp_Score  Median_Household_Income_2022  \\\n",
       "0                0.631069                       82455.0   \n",
       "1                0.548989                       76614.0   \n",
       "2                0.798450                       68748.0   \n",
       "3                0.950876                       83668.0   \n",
       "4                0.644374                       98365.0   \n",
       "\n",
       "   Unemployment_rate_2023  IncomeScore  UnemploymentScore  \\\n",
       "0                     5.0     0.595872           0.306132   \n",
       "1                     4.4     0.554014           0.337660   \n",
       "2                     4.3     0.492296           0.343330   \n",
       "3                     3.4     0.604192           0.401248   \n",
       "4                     3.9     0.696388           0.367410   \n",
       "\n",
       "                                                Jobs Summary  \\\n",
       "0  https://www.indeed.com/jobs?q=&l=Los+Angeles+C...    None   \n",
       "1  https://www.indeed.com/jobs?q=&l=Cook+County%2...    None   \n",
       "2  https://www.indeed.com/jobs?q=&l=Harris+County...    None   \n",
       "3  https://www.indeed.com/jobs?q=&l=Maricopa+Coun...    None   \n",
       "4  https://www.indeed.com/jobs?q=&l=San+Diego+Cou...    None   \n",
       "\n",
       "  Pop_Est_July_1_2024  Low_Pop_Score  High_Pop_Score  \n",
       "0           9757179.0       0.000000        1.000000  \n",
       "1           5182617.0       0.051765        0.948235  \n",
       "2           5009302.0       0.054548        0.945452  \n",
       "3           4673096.0       0.060233        0.939767  \n",
       "4           3298799.0       0.088727        0.911273  \n",
       "\n",
       "[5 rows x 21 columns]"
      ]
     },
     "execution_count": 34,
     "metadata": {},
     "output_type": "execute_result"
    }
   ],
   "source": [
    "import pandas as pd\n",
    "\n",
    "compiled = pd.read_parquet(\"/workspaces/greener/static/greener/compiled_data.parquet\")\n",
    "compiled.head()"
   ]
  },
  {
   "cell_type": "code",
   "execution_count": 35,
   "id": "6fc05022",
   "metadata": {},
   "outputs": [
    {
     "data": {
      "text/plain": [
       "numpy.ndarray"
      ]
     },
     "execution_count": 35,
     "metadata": {},
     "output_type": "execute_result"
    }
   ],
   "source": [
    "# get list of states from compiled data\n",
    "states = compiled['StateName'].unique()\n",
    "type(states)"
   ]
  },
  {
   "cell_type": "code",
   "execution_count": 36,
   "id": "14b27992",
   "metadata": {},
   "outputs": [
    {
     "name": "stdout",
     "output_type": "stream",
     "text": [
      "['california' 'illinois' 'texas' 'arizona' 'new-york' 'florida'\n",
      " 'washington' 'nevada' 'michigan' 'massachusetts' 'pennsylvania' 'ohio'\n",
      " 'minnesota' 'utah' 'virginia' 'north-carolina' 'maryland' 'georgia'\n",
      " 'hawaii' 'missouri' 'indiana' 'connecticut' 'new-jersey' 'wisconsin'\n",
      " 'tennessee' 'oregon' 'oklahoma' 'kentucky' 'colorado'\n",
      " 'district-of-columbia' 'new-mexico' 'alabama' 'rhode-island' 'kansas'\n",
      " 'nebraska' 'delaware' 'south-carolina' 'iowa' 'idaho' 'louisiana'\n",
      " 'new-hampshire' 'arkansas' 'maine' 'alaska' 'mississippi' 'south-dakota'\n",
      " 'north-dakota' 'west-virginia' 'vermont' 'montana' 'wyoming']\n"
     ]
    }
   ],
   "source": [
    "# convert abbreviations to full state name\n",
    "us_state_to_abbrev = {\n",
    "    \"Alabama\": \"AL\",\n",
    "    \"Alaska\": \"AK\",\n",
    "    \"Arizona\": \"AZ\",\n",
    "    \"Arkansas\": \"AR\",\n",
    "    \"California\": \"CA\",\n",
    "    \"Colorado\": \"CO\",\n",
    "    \"Connecticut\": \"CT\",\n",
    "    \"Delaware\": \"DE\",\n",
    "    \"Florida\": \"FL\",\n",
    "    \"Georgia\": \"GA\",\n",
    "    \"Hawaii\": \"HI\",\n",
    "    \"Idaho\": \"ID\",\n",
    "    \"Illinois\": \"IL\",\n",
    "    \"Indiana\": \"IN\",\n",
    "    \"Iowa\": \"IA\",\n",
    "    \"Kansas\": \"KS\",\n",
    "    \"Kentucky\": \"KY\",\n",
    "    \"Louisiana\": \"LA\",\n",
    "    \"Maine\": \"ME\",\n",
    "    \"Maryland\": \"MD\",\n",
    "    \"Massachusetts\": \"MA\",\n",
    "    \"Michigan\": \"MI\",\n",
    "    \"Minnesota\": \"MN\",\n",
    "    \"Mississippi\": \"MS\",\n",
    "    \"Missouri\": \"MO\",\n",
    "    \"Montana\": \"MT\",\n",
    "    \"Nebraska\": \"NE\",\n",
    "    \"Nevada\": \"NV\",\n",
    "    \"New Hampshire\": \"NH\",\n",
    "    \"New Jersey\": \"NJ\",\n",
    "    \"New Mexico\": \"NM\",\n",
    "    \"New York\": \"NY\",\n",
    "    \"North Carolina\": \"NC\",\n",
    "    \"North Dakota\": \"ND\",\n",
    "    \"Ohio\": \"OH\",\n",
    "    \"Oklahoma\": \"OK\",\n",
    "    \"Oregon\": \"OR\",\n",
    "    \"Pennsylvania\": \"PA\",\n",
    "    \"Rhode Island\": \"RI\",\n",
    "    \"South Carolina\": \"SC\",\n",
    "    \"South Dakota\": \"SD\",\n",
    "    \"Tennessee\": \"TN\",\n",
    "    \"Texas\": \"TX\",\n",
    "    \"Utah\": \"UT\",\n",
    "    \"Vermont\": \"VT\",\n",
    "    \"Virginia\": \"VA\",\n",
    "    \"Washington\": \"WA\",\n",
    "    \"West Virginia\": \"WV\",\n",
    "    \"Wisconsin\": \"WI\",\n",
    "    \"Wyoming\": \"WY\",\n",
    "    \"District of Columbia\": \"DC\",\n",
    "    \"American Samoa\": \"AS\",\n",
    "    \"Guam\": \"GU\",\n",
    "    \"Northern Mariana Islands\": \"MP\",\n",
    "    \"Puerto Rico\": \"PR\",\n",
    "    \"United States Minor Outlying Islands\": \"UM\",\n",
    "    \"Virgin Islands, U.S.\": \"VI\",\n",
    "}\n",
    "for state in states:\n",
    "    name = next(key for key, value in us_state_to_abbrev.items() if value == state)\n",
    "    name = name.replace(' ', '-')\n",
    "    states[states==state] = name.lower()\n",
    "print(states)"
   ]
  },
  {
   "cell_type": "code",
   "execution_count": null,
   "id": "348b6647",
   "metadata": {},
   "outputs": [
    {
     "data": {
      "text/plain": [
       "array(['california', 'illinois', 'texas', 'arizona', 'new-york',\n",
       "       'florida', 'washington', 'nevada', 'michigan', 'massachusetts',\n",
       "       'pennsylvania', 'ohio', 'minnesota', 'utah', 'virginia',\n",
       "       'north-carolina', 'maryland', 'georgia', 'hawaii', 'missouri',\n",
       "       'indiana', 'connecticut', 'new-jersey', 'wisconsin', 'tennessee',\n",
       "       'oregon', 'oklahoma', 'kentucky', 'colorado', 'new-mexico',\n",
       "       'alabama', 'rhode-island', 'kansas', 'nebraska', 'delaware',\n",
       "       'south-carolina', 'iowa', 'idaho', 'louisiana', 'new-hampshire',\n",
       "       'arkansas', 'maine', 'alaska', 'mississippi', 'south-dakota',\n",
       "       'north-dakota', 'west-virginia', 'vermont', 'montana', 'wyoming'],\n",
       "      dtype=object)"
      ]
     },
     "execution_count": 37,
     "metadata": {},
     "output_type": "execute_result"
    }
   ],
   "source": [
    "# remove DC from array because NYT doesnt have it.\n",
    "import numpy as np\n",
    "np.delete(states, np.where(states=='district-of-columbia'))"
   ]
  },
  {
   "cell_type": "code",
   "execution_count": 48,
   "id": "9d5d6be7",
   "metadata": {},
   "outputs": [
    {
     "ename": "AttributeError",
     "evalue": "'list' object has no attribute 'get'",
     "output_type": "error",
     "traceback": [
      "\u001b[31m---------------------------------------------------------------------------\u001b[39m",
      "\u001b[31mAttributeError\u001b[39m                            Traceback (most recent call last)",
      "\u001b[36mCell\u001b[39m\u001b[36m \u001b[39m\u001b[32mIn[48]\u001b[39m\u001b[32m, line 13\u001b[39m\n\u001b[32m     11\u001b[39m     res = county_results\n\u001b[32m     12\u001b[39m     \u001b[38;5;28mprint\u001b[39m(res)\n\u001b[32m---> \u001b[39m\u001b[32m13\u001b[39m \u001b[43mget_results\u001b[49m\u001b[43m(\u001b[49m\u001b[33;43m'\u001b[39;49m\u001b[33;43mgeorgia\u001b[39;49m\u001b[33;43m'\u001b[39;49m\u001b[43m)\u001b[49m\n",
      "\u001b[36mCell\u001b[39m\u001b[36m \u001b[39m\u001b[32mIn[48]\u001b[39m\u001b[32m, line 10\u001b[39m, in \u001b[36mget_results\u001b[39m\u001b[34m(state)\u001b[39m\n\u001b[32m      8\u001b[39m data = response.json()\n\u001b[32m      9\u001b[39m race = data.get(\u001b[33m'\u001b[39m\u001b[33mraces\u001b[39m\u001b[33m'\u001b[39m)\n\u001b[32m---> \u001b[39m\u001b[32m10\u001b[39m county_results = \u001b[43mrace\u001b[49m\u001b[43m.\u001b[49m\u001b[43mget\u001b[49m(\u001b[33m'\u001b[39m\u001b[33mreporting_units\u001b[39m\u001b[33m'\u001b[39m)\n\u001b[32m     11\u001b[39m res = county_results\n\u001b[32m     12\u001b[39m \u001b[38;5;28mprint\u001b[39m(res)\n",
      "\u001b[31mAttributeError\u001b[39m: 'list' object has no attribute 'get'"
     ]
    }
   ],
   "source": [
    "# Scrape NYT for county results for each state\n",
    "import requests\n",
    "\n",
    "\n",
    "def get_results(state):\n",
    "    url = f\"https://static01.nyt.com/elections-assets/pages/data/2024-11-05/results-{state}-president.json\"\n",
    "    response = requests.get(url)\n",
    "    data = response.json()\n",
    "    race = data.get('races')\n",
    "    county_results = race.get('reporting_units')\n",
    "    res = county_results\n",
    "    print(res)\n",
    "get_results('georgia')"
   ]
  },
  {
   "cell_type": "code",
   "execution_count": 42,
   "id": "81d47276",
   "metadata": {},
   "outputs": [
    {
     "data": {
      "application/vnd.microsoft.datawrangler.viewer.v0+json": {
       "columns": [
        {
         "name": "index",
         "rawType": "int64",
         "type": "integer"
        },
        {
         "name": "states",
         "rawType": "object",
         "type": "string"
        },
        {
         "name": "r_votes",
         "rawType": "object",
         "type": "unknown"
        }
       ],
       "ref": "c8950425-edb7-4da8-a23b-579f82af2f6b",
       "rows": [
        [
         "0",
         "california",
         null
        ],
        [
         "1",
         "illinois",
         null
        ],
        [
         "2",
         "texas",
         null
        ],
        [
         "3",
         "arizona",
         null
        ],
        [
         "4",
         "new-york",
         null
        ]
       ],
       "shape": {
        "columns": 2,
        "rows": 5
       }
      },
      "text/html": [
       "<div>\n",
       "<style scoped>\n",
       "    .dataframe tbody tr th:only-of-type {\n",
       "        vertical-align: middle;\n",
       "    }\n",
       "\n",
       "    .dataframe tbody tr th {\n",
       "        vertical-align: top;\n",
       "    }\n",
       "\n",
       "    .dataframe thead th {\n",
       "        text-align: right;\n",
       "    }\n",
       "</style>\n",
       "<table border=\"1\" class=\"dataframe\">\n",
       "  <thead>\n",
       "    <tr style=\"text-align: right;\">\n",
       "      <th></th>\n",
       "      <th>states</th>\n",
       "      <th>r_votes</th>\n",
       "    </tr>\n",
       "  </thead>\n",
       "  <tbody>\n",
       "    <tr>\n",
       "      <th>0</th>\n",
       "      <td>california</td>\n",
       "      <td>None</td>\n",
       "    </tr>\n",
       "    <tr>\n",
       "      <th>1</th>\n",
       "      <td>illinois</td>\n",
       "      <td>None</td>\n",
       "    </tr>\n",
       "    <tr>\n",
       "      <th>2</th>\n",
       "      <td>texas</td>\n",
       "      <td>None</td>\n",
       "    </tr>\n",
       "    <tr>\n",
       "      <th>3</th>\n",
       "      <td>arizona</td>\n",
       "      <td>None</td>\n",
       "    </tr>\n",
       "    <tr>\n",
       "      <th>4</th>\n",
       "      <td>new-york</td>\n",
       "      <td>None</td>\n",
       "    </tr>\n",
       "  </tbody>\n",
       "</table>\n",
       "</div>"
      ],
      "text/plain": [
       "       states r_votes\n",
       "0  california    None\n",
       "1    illinois    None\n",
       "2       texas    None\n",
       "3     arizona    None\n",
       "4    new-york    None"
      ]
     },
     "execution_count": 42,
     "metadata": {},
     "output_type": "execute_result"
    }
   ],
   "source": [
    "results = pd.DataFrame()\n",
    "results['states'] = states\n",
    "results['r_votes'] = None\n",
    "results.head()"
   ]
  },
  {
   "cell_type": "code",
   "execution_count": null,
   "id": "109558c5",
   "metadata": {},
   "outputs": [],
   "source": []
  }
 ],
 "metadata": {
  "kernelspec": {
   "display_name": "Python 3",
   "language": "python",
   "name": "python3"
  },
  "language_info": {
   "codemirror_mode": {
    "name": "ipython",
    "version": 3
   },
   "file_extension": ".py",
   "mimetype": "text/x-python",
   "name": "python",
   "nbconvert_exporter": "python",
   "pygments_lexer": "ipython3",
   "version": "3.12.1"
  }
 },
 "nbformat": 4,
 "nbformat_minor": 5
}
