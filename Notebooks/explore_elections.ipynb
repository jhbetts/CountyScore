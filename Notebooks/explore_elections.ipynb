{
 "cells": [
  {
   "cell_type": "markdown",
   "id": "ff6c3852",
   "metadata": {},
   "source": [
    "# Explore elections data to determine political leanings of county\n",
    "\n",
    "Source: Scraped data from NYT."
   ]
  },
  {
   "cell_type": "code",
   "execution_count": null,
   "id": "08cf980d",
   "metadata": {},
   "outputs": [
    {
     "data": {
      "application/vnd.microsoft.datawrangler.viewer.v0+json": {
       "columns": [
        {
         "name": "index",
         "rawType": "int64",
         "type": "integer"
        },
        {
         "name": "fips",
         "rawType": "object",
         "type": "string"
        },
        {
         "name": "StateName",
         "rawType": "object",
         "type": "string"
        },
        {
         "name": "RegionName",
         "rawType": "object",
         "type": "string"
        },
        {
         "name": "AverageHomeValue",
         "rawType": "float32",
         "type": "float"
        },
        {
         "name": "HousingScore",
         "rawType": "float32",
         "type": "float"
        },
        {
         "name": "Houses",
         "rawType": "object",
         "type": "string"
        },
        {
         "name": "WinterAvg",
         "rawType": "float64",
         "type": "float"
        },
        {
         "name": "Winter_Low_Temp_Score",
         "rawType": "float64",
         "type": "float"
        },
        {
         "name": "Winter_High_Temp_Score",
         "rawType": "float64",
         "type": "float"
        },
        {
         "name": "SummerAvg",
         "rawType": "float64",
         "type": "float"
        },
        {
         "name": "Summer_Low_Temp_Score",
         "rawType": "float64",
         "type": "float"
        },
        {
         "name": "Summer_High_Temp_Score",
         "rawType": "float64",
         "type": "float"
        },
        {
         "name": "Median_Household_Income_2022",
         "rawType": "float64",
         "type": "float"
        },
        {
         "name": "Unemployment_rate_2023",
         "rawType": "float64",
         "type": "float"
        },
        {
         "name": "IncomeScore",
         "rawType": "float64",
         "type": "float"
        },
        {
         "name": "UnemploymentScore",
         "rawType": "float64",
         "type": "float"
        },
        {
         "name": "Jobs",
         "rawType": "object",
         "type": "string"
        },
        {
         "name": "Summary",
         "rawType": "object",
         "type": "unknown"
        },
        {
         "name": "Pop_Est_July_1_2024",
         "rawType": "float64",
         "type": "float"
        },
        {
         "name": "Low_Pop_Score",
         "rawType": "float64",
         "type": "float"
        },
        {
         "name": "High_Pop_Score",
         "rawType": "float64",
         "type": "float"
        },
        {
         "name": "R_Votes",
         "rawType": "float64",
         "type": "float"
        },
        {
         "name": "D_Votes",
         "rawType": "float64",
         "type": "float"
        },
        {
         "name": "Total_Votes",
         "rawType": "float64",
         "type": "float"
        },
        {
         "name": "R_Score",
         "rawType": "float64",
         "type": "float"
        },
        {
         "name": "D_Score",
         "rawType": "float64",
         "type": "float"
        }
       ],
       "ref": "821e80ae-61d5-4da3-ba72-f7972a96ee46",
       "rows": [
        [
         "0",
         "06037",
         "CA",
         "Los Angeles County",
         "898170.75",
         "0.2734413",
         "https://www.zillow.com/Los-Angeles-County-CA",
         "59.1",
         "0.25350417572741213",
         "0.7464958242725879",
         "76.6",
         "0.3711581158694388",
         "0.6288418841305612",
         "82455.0",
         "5.0",
         "0.5958723051840371",
         "0.3061323708844206",
         "https://www.indeed.com/jobs?q=&l=Los+Angeles+County%2C+CA",
         null,
         "9757179.0",
         "0.0",
         "1.0",
         "1189862.0",
         "2417109.0",
         "3728427.0",
         "0.3191324384251053",
         "0.648291893605534"
        ],
        [
         "1",
         "17031",
         "IL",
         "Cook County",
         "322945.47",
         "0.5070355",
         "https://www.zillow.com/Cook-County-IL",
         "45.3",
         "0.5243826661696804",
         "0.47561733383031957",
         "73.1",
         "0.45101071270488813",
         "0.5489892872951119",
         "76614.0",
         "4.4",
         "0.5540141087605566",
         "0.3376597400961091",
         "https://www.indeed.com/jobs?q=&l=Cook+County%2C+IL",
         null,
         "5182617.0",
         "0.051765421774215725",
         "0.9482345782257843",
         "583852.0",
         "1447821.0",
         "2056800.0",
         "0.2838642551536367",
         "0.703919194865811"
        ],
        [
         "2",
         "48201",
         "TX",
         "Harris County",
         "287587.97",
         "0.53351593",
         "https://www.zillow.com/Harris-County-TX",
         "68.4",
         "0.10463941207371841",
         "0.8953605879262816",
         "84.6",
         "0.2015504321282151",
         "0.7984495678717849",
         "68748.0",
         "4.3",
         "0.49229622232388426",
         "0.34332961346726454",
         "https://www.indeed.com/jobs?q=&l=Harris+County%2C+TX",
         null,
         "5009302.0",
         "0.05454832852693203",
         "0.945451671473068",
         "722695.0",
         "808771.0",
         "1556310.0",
         "0.4643644261104793",
         "0.5196721732816727"
        ],
        [
         "3",
         "04013",
         "AZ",
         "Maricopa County",
         "470511.5",
         "0.42109156",
         "https://www.zillow.com/Maricopa-County-AZ",
         "64.6",
         "0.16286278096724915",
         "0.8371372190327508",
         "92.5",
         "0.04912392927877196",
         "0.950876070721228",
         "83668.0",
         "3.4",
         "0.604192285564122",
         "0.4012477799520362",
         "https://www.indeed.com/jobs?q=&l=Maricopa+County%2C+AZ",
         null,
         "4673096.0",
         "0.0602325863039771",
         "0.9397674136960229",
         "1051531.0",
         "980016.0",
         "2053945.0",
         "0.511956746650957",
         "0.47713838491293586"
        ],
        [
         "4",
         "06073",
         "CA",
         "San Diego County",
         "945139.1",
         "0.26180077",
         "https://www.zillow.com/San-Diego-County-CA",
         "60.7",
         "0.22629369926201592",
         "0.7737063007379841",
         "77.1",
         "0.36004946500247126",
         "0.6399505349975287",
         "98365.0",
         "3.9",
         "0.6963875177069383",
         "0.3674100553960591",
         "https://www.indeed.com/jobs?q=&l=San+Diego+County%2C+CA",
         null,
         "3298799.0",
         "0.08872664859454138",
         "0.9112733514054586",
         "593270.0",
         "841372.0",
         "1477786.0",
         "0.40145866857582896",
         "0.5693463058927342"
        ]
       ],
       "shape": {
        "columns": 26,
        "rows": 5
       }
      },
      "text/html": [
       "<div>\n",
       "<style scoped>\n",
       "    .dataframe tbody tr th:only-of-type {\n",
       "        vertical-align: middle;\n",
       "    }\n",
       "\n",
       "    .dataframe tbody tr th {\n",
       "        vertical-align: top;\n",
       "    }\n",
       "\n",
       "    .dataframe thead th {\n",
       "        text-align: right;\n",
       "    }\n",
       "</style>\n",
       "<table border=\"1\" class=\"dataframe\">\n",
       "  <thead>\n",
       "    <tr style=\"text-align: right;\">\n",
       "      <th></th>\n",
       "      <th>fips</th>\n",
       "      <th>StateName</th>\n",
       "      <th>RegionName</th>\n",
       "      <th>AverageHomeValue</th>\n",
       "      <th>HousingScore</th>\n",
       "      <th>Houses</th>\n",
       "      <th>WinterAvg</th>\n",
       "      <th>Winter_Low_Temp_Score</th>\n",
       "      <th>Winter_High_Temp_Score</th>\n",
       "      <th>SummerAvg</th>\n",
       "      <th>...</th>\n",
       "      <th>Jobs</th>\n",
       "      <th>Summary</th>\n",
       "      <th>Pop_Est_July_1_2024</th>\n",
       "      <th>Low_Pop_Score</th>\n",
       "      <th>High_Pop_Score</th>\n",
       "      <th>R_Votes</th>\n",
       "      <th>D_Votes</th>\n",
       "      <th>Total_Votes</th>\n",
       "      <th>R_Score</th>\n",
       "      <th>D_Score</th>\n",
       "    </tr>\n",
       "  </thead>\n",
       "  <tbody>\n",
       "    <tr>\n",
       "      <th>0</th>\n",
       "      <td>06037</td>\n",
       "      <td>CA</td>\n",
       "      <td>Los Angeles County</td>\n",
       "      <td>898170.75000</td>\n",
       "      <td>0.273441</td>\n",
       "      <td>https://www.zillow.com/Los-Angeles-County-CA</td>\n",
       "      <td>59.1</td>\n",
       "      <td>0.253504</td>\n",
       "      <td>0.746496</td>\n",
       "      <td>76.6</td>\n",
       "      <td>...</td>\n",
       "      <td>https://www.indeed.com/jobs?q=&amp;l=Los+Angeles+C...</td>\n",
       "      <td>None</td>\n",
       "      <td>9757179.0</td>\n",
       "      <td>0.000000</td>\n",
       "      <td>1.000000</td>\n",
       "      <td>1189862.0</td>\n",
       "      <td>2417109.0</td>\n",
       "      <td>3728427.0</td>\n",
       "      <td>0.319132</td>\n",
       "      <td>0.648292</td>\n",
       "    </tr>\n",
       "    <tr>\n",
       "      <th>1</th>\n",
       "      <td>17031</td>\n",
       "      <td>IL</td>\n",
       "      <td>Cook County</td>\n",
       "      <td>322945.46875</td>\n",
       "      <td>0.507035</td>\n",
       "      <td>https://www.zillow.com/Cook-County-IL</td>\n",
       "      <td>45.3</td>\n",
       "      <td>0.524383</td>\n",
       "      <td>0.475617</td>\n",
       "      <td>73.1</td>\n",
       "      <td>...</td>\n",
       "      <td>https://www.indeed.com/jobs?q=&amp;l=Cook+County%2...</td>\n",
       "      <td>None</td>\n",
       "      <td>5182617.0</td>\n",
       "      <td>0.051765</td>\n",
       "      <td>0.948235</td>\n",
       "      <td>583852.0</td>\n",
       "      <td>1447821.0</td>\n",
       "      <td>2056800.0</td>\n",
       "      <td>0.283864</td>\n",
       "      <td>0.703919</td>\n",
       "    </tr>\n",
       "    <tr>\n",
       "      <th>2</th>\n",
       "      <td>48201</td>\n",
       "      <td>TX</td>\n",
       "      <td>Harris County</td>\n",
       "      <td>287587.96875</td>\n",
       "      <td>0.533516</td>\n",
       "      <td>https://www.zillow.com/Harris-County-TX</td>\n",
       "      <td>68.4</td>\n",
       "      <td>0.104639</td>\n",
       "      <td>0.895361</td>\n",
       "      <td>84.6</td>\n",
       "      <td>...</td>\n",
       "      <td>https://www.indeed.com/jobs?q=&amp;l=Harris+County...</td>\n",
       "      <td>None</td>\n",
       "      <td>5009302.0</td>\n",
       "      <td>0.054548</td>\n",
       "      <td>0.945452</td>\n",
       "      <td>722695.0</td>\n",
       "      <td>808771.0</td>\n",
       "      <td>1556310.0</td>\n",
       "      <td>0.464364</td>\n",
       "      <td>0.519672</td>\n",
       "    </tr>\n",
       "    <tr>\n",
       "      <th>3</th>\n",
       "      <td>04013</td>\n",
       "      <td>AZ</td>\n",
       "      <td>Maricopa County</td>\n",
       "      <td>470511.50000</td>\n",
       "      <td>0.421092</td>\n",
       "      <td>https://www.zillow.com/Maricopa-County-AZ</td>\n",
       "      <td>64.6</td>\n",
       "      <td>0.162863</td>\n",
       "      <td>0.837137</td>\n",
       "      <td>92.5</td>\n",
       "      <td>...</td>\n",
       "      <td>https://www.indeed.com/jobs?q=&amp;l=Maricopa+Coun...</td>\n",
       "      <td>None</td>\n",
       "      <td>4673096.0</td>\n",
       "      <td>0.060233</td>\n",
       "      <td>0.939767</td>\n",
       "      <td>1051531.0</td>\n",
       "      <td>980016.0</td>\n",
       "      <td>2053945.0</td>\n",
       "      <td>0.511957</td>\n",
       "      <td>0.477138</td>\n",
       "    </tr>\n",
       "    <tr>\n",
       "      <th>4</th>\n",
       "      <td>06073</td>\n",
       "      <td>CA</td>\n",
       "      <td>San Diego County</td>\n",
       "      <td>945139.12500</td>\n",
       "      <td>0.261801</td>\n",
       "      <td>https://www.zillow.com/San-Diego-County-CA</td>\n",
       "      <td>60.7</td>\n",
       "      <td>0.226294</td>\n",
       "      <td>0.773706</td>\n",
       "      <td>77.1</td>\n",
       "      <td>...</td>\n",
       "      <td>https://www.indeed.com/jobs?q=&amp;l=San+Diego+Cou...</td>\n",
       "      <td>None</td>\n",
       "      <td>3298799.0</td>\n",
       "      <td>0.088727</td>\n",
       "      <td>0.911273</td>\n",
       "      <td>593270.0</td>\n",
       "      <td>841372.0</td>\n",
       "      <td>1477786.0</td>\n",
       "      <td>0.401459</td>\n",
       "      <td>0.569346</td>\n",
       "    </tr>\n",
       "  </tbody>\n",
       "</table>\n",
       "<p>5 rows × 26 columns</p>\n",
       "</div>"
      ],
      "text/plain": [
       "    fips StateName          RegionName  AverageHomeValue  HousingScore  \\\n",
       "0  06037        CA  Los Angeles County      898170.75000      0.273441   \n",
       "1  17031        IL         Cook County      322945.46875      0.507035   \n",
       "2  48201        TX       Harris County      287587.96875      0.533516   \n",
       "3  04013        AZ     Maricopa County      470511.50000      0.421092   \n",
       "4  06073        CA    San Diego County      945139.12500      0.261801   \n",
       "\n",
       "                                         Houses  WinterAvg  \\\n",
       "0  https://www.zillow.com/Los-Angeles-County-CA       59.1   \n",
       "1         https://www.zillow.com/Cook-County-IL       45.3   \n",
       "2       https://www.zillow.com/Harris-County-TX       68.4   \n",
       "3     https://www.zillow.com/Maricopa-County-AZ       64.6   \n",
       "4    https://www.zillow.com/San-Diego-County-CA       60.7   \n",
       "\n",
       "   Winter_Low_Temp_Score  Winter_High_Temp_Score  SummerAvg  ...  \\\n",
       "0               0.253504                0.746496       76.6  ...   \n",
       "1               0.524383                0.475617       73.1  ...   \n",
       "2               0.104639                0.895361       84.6  ...   \n",
       "3               0.162863                0.837137       92.5  ...   \n",
       "4               0.226294                0.773706       77.1  ...   \n",
       "\n",
       "                                                Jobs  Summary  \\\n",
       "0  https://www.indeed.com/jobs?q=&l=Los+Angeles+C...     None   \n",
       "1  https://www.indeed.com/jobs?q=&l=Cook+County%2...     None   \n",
       "2  https://www.indeed.com/jobs?q=&l=Harris+County...     None   \n",
       "3  https://www.indeed.com/jobs?q=&l=Maricopa+Coun...     None   \n",
       "4  https://www.indeed.com/jobs?q=&l=San+Diego+Cou...     None   \n",
       "\n",
       "   Pop_Est_July_1_2024  Low_Pop_Score  High_Pop_Score    R_Votes    D_Votes  \\\n",
       "0            9757179.0       0.000000        1.000000  1189862.0  2417109.0   \n",
       "1            5182617.0       0.051765        0.948235   583852.0  1447821.0   \n",
       "2            5009302.0       0.054548        0.945452   722695.0   808771.0   \n",
       "3            4673096.0       0.060233        0.939767  1051531.0   980016.0   \n",
       "4            3298799.0       0.088727        0.911273   593270.0   841372.0   \n",
       "\n",
       "  Total_Votes   R_Score   D_Score  \n",
       "0   3728427.0  0.319132  0.648292  \n",
       "1   2056800.0  0.283864  0.703919  \n",
       "2   1556310.0  0.464364  0.519672  \n",
       "3   2053945.0  0.511957  0.477138  \n",
       "4   1477786.0  0.401459  0.569346  \n",
       "\n",
       "[5 rows x 26 columns]"
      ]
     },
     "execution_count": 71,
     "metadata": {},
     "output_type": "execute_result"
    }
   ],
   "source": [
    "import pandas as pd\n",
    "\n",
    "compiled = pd.read_parquet(\"/workspaces/greener/static/county_score/compiled_data.parquet\")\n",
    "compiled.head()"
   ]
  },
  {
   "cell_type": "code",
   "execution_count": 72,
   "id": "6fc05022",
   "metadata": {},
   "outputs": [
    {
     "data": {
      "text/plain": [
       "numpy.ndarray"
      ]
     },
     "execution_count": 72,
     "metadata": {},
     "output_type": "execute_result"
    }
   ],
   "source": [
    "# get list of states from compiled data\n",
    "states = compiled['StateName'].unique()\n",
    "type(states)"
   ]
  },
  {
   "cell_type": "code",
   "execution_count": 73,
   "id": "14b27992",
   "metadata": {},
   "outputs": [
    {
     "name": "stdout",
     "output_type": "stream",
     "text": [
      "['california' 'illinois' 'texas' 'arizona' 'new-york' 'florida'\n",
      " 'washington' 'nevada' 'michigan' 'massachusetts' 'pennsylvania' 'ohio'\n",
      " 'minnesota' 'utah' 'virginia' 'north-carolina' 'maryland' 'georgia'\n",
      " 'hawaii' 'missouri' 'indiana' 'connecticut' 'new-jersey' 'wisconsin'\n",
      " 'tennessee' 'oregon' 'oklahoma' 'kentucky' 'colorado'\n",
      " 'district-of-columbia' 'new-mexico' 'alabama' 'rhode-island' 'kansas'\n",
      " 'nebraska' 'delaware' 'south-carolina' 'iowa' 'idaho' 'louisiana'\n",
      " 'new-hampshire' 'arkansas' 'maine' 'alaska' 'mississippi' 'south-dakota'\n",
      " 'north-dakota' 'west-virginia' 'vermont' 'montana' 'wyoming']\n"
     ]
    }
   ],
   "source": [
    "# convert abbreviations to full state name\n",
    "us_state_to_abbrev = {\n",
    "    \"Alabama\": \"AL\",\n",
    "    \"Alaska\": \"AK\",\n",
    "    \"Arizona\": \"AZ\",\n",
    "    \"Arkansas\": \"AR\",\n",
    "    \"California\": \"CA\",\n",
    "    \"Colorado\": \"CO\",\n",
    "    \"Connecticut\": \"CT\",\n",
    "    \"Delaware\": \"DE\",\n",
    "    \"Florida\": \"FL\",\n",
    "    \"Georgia\": \"GA\",\n",
    "    \"Hawaii\": \"HI\",\n",
    "    \"Idaho\": \"ID\",\n",
    "    \"Illinois\": \"IL\",\n",
    "    \"Indiana\": \"IN\",\n",
    "    \"Iowa\": \"IA\",\n",
    "    \"Kansas\": \"KS\",\n",
    "    \"Kentucky\": \"KY\",\n",
    "    \"Louisiana\": \"LA\",\n",
    "    \"Maine\": \"ME\",\n",
    "    \"Maryland\": \"MD\",\n",
    "    \"Massachusetts\": \"MA\",\n",
    "    \"Michigan\": \"MI\",\n",
    "    \"Minnesota\": \"MN\",\n",
    "    \"Mississippi\": \"MS\",\n",
    "    \"Missouri\": \"MO\",\n",
    "    \"Montana\": \"MT\",\n",
    "    \"Nebraska\": \"NE\",\n",
    "    \"Nevada\": \"NV\",\n",
    "    \"New Hampshire\": \"NH\",\n",
    "    \"New Jersey\": \"NJ\",\n",
    "    \"New Mexico\": \"NM\",\n",
    "    \"New York\": \"NY\",\n",
    "    \"North Carolina\": \"NC\",\n",
    "    \"North Dakota\": \"ND\",\n",
    "    \"Ohio\": \"OH\",\n",
    "    \"Oklahoma\": \"OK\",\n",
    "    \"Oregon\": \"OR\",\n",
    "    \"Pennsylvania\": \"PA\",\n",
    "    \"Rhode Island\": \"RI\",\n",
    "    \"South Carolina\": \"SC\",\n",
    "    \"South Dakota\": \"SD\",\n",
    "    \"Tennessee\": \"TN\",\n",
    "    \"Texas\": \"TX\",\n",
    "    \"Utah\": \"UT\",\n",
    "    \"Vermont\": \"VT\",\n",
    "    \"Virginia\": \"VA\",\n",
    "    \"Washington\": \"WA\",\n",
    "    \"West Virginia\": \"WV\",\n",
    "    \"Wisconsin\": \"WI\",\n",
    "    \"Wyoming\": \"WY\",\n",
    "    \"District of Columbia\": \"DC\",\n",
    "    \"American Samoa\": \"AS\",\n",
    "    \"Guam\": \"GU\",\n",
    "    \"Northern Mariana Islands\": \"MP\",\n",
    "    \"Puerto Rico\": \"PR\",\n",
    "    \"United States Minor Outlying Islands\": \"UM\",\n",
    "    \"Virgin Islands, U.S.\": \"VI\",\n",
    "}\n",
    "for state in states:\n",
    "    name = next(key for key, value in us_state_to_abbrev.items() if value == state)\n",
    "    name = name.replace(' ', '-')\n",
    "    states[states==state] = name.lower()\n",
    "print(states)"
   ]
  },
  {
   "cell_type": "code",
   "execution_count": 74,
   "id": "348b6647",
   "metadata": {},
   "outputs": [],
   "source": [
    "# remove DC from array because NYT doesnt have it.\n",
    "import numpy as np\n",
    "states = np.delete(states, np.where(states=='district-of-columbia'))"
   ]
  },
  {
   "cell_type": "code",
   "execution_count": 75,
   "id": "9d5d6be7",
   "metadata": {},
   "outputs": [
    {
     "data": {
      "text/plain": [
       "(4587, 4)"
      ]
     },
     "execution_count": 75,
     "metadata": {},
     "output_type": "execute_result"
    }
   ],
   "source": [
    "# Scrape NYT for county results for each state\n",
    "import requests\n",
    "\n",
    "counties = pd.DataFrame(columns=['fips', \"R_votes\", \"D_votes\", \"Total_votes\"])\n",
    "# define function to scrape page\n",
    "def get_results(state):\n",
    "    url = f\"https://static01.nyt.com/elections-assets/pages/data/2024-11-05/results-{state}-president.json\"\n",
    "    response = requests.get(url)\n",
    "    data = response.json()\n",
    "    race = data.get('races')\n",
    "    race = race[0]\n",
    "    units = race.get(\"reporting_units\")\n",
    "    for unit in units:\n",
    "        name = unit.get('name')\n",
    "        level= unit.get('level')\n",
    "        if level in ['county', 'township']:\n",
    "            fips = unit.get('fips_state')+unit.get('fips_county')\n",
    "            candidates=unit.get(\"candidates\")\n",
    "            for candidate in candidates:\n",
    "                id = candidate['nyt_id']\n",
    "                if id == 'harris-k':\n",
    "                    d_votes = candidate['votes']['total']\n",
    "                elif id == 'trump-d': \n",
    "                    r_votes = candidate['votes']['total']\n",
    "                else: pass\n",
    "            total = unit.get('total_votes')\n",
    "            counties.loc[len(counties)] = [fips, r_votes, d_votes, total]\n",
    "        else: pass\n",
    "# call function on all selected states\n",
    "for state in states:\n",
    "    get_results(state)\n",
    "counties.shape"
   ]
  },
  {
   "cell_type": "code",
   "execution_count": 76,
   "id": "4a99c105",
   "metadata": {},
   "outputs": [
    {
     "data": {
      "application/vnd.microsoft.datawrangler.viewer.v0+json": {
       "columns": [
        {
         "name": "index",
         "rawType": "int64",
         "type": "integer"
        },
        {
         "name": "fips",
         "rawType": "object",
         "type": "string"
        },
        {
         "name": "R_votes",
         "rawType": "int64",
         "type": "integer"
        },
        {
         "name": "D_votes",
         "rawType": "int64",
         "type": "integer"
        },
        {
         "name": "Total_votes",
         "rawType": "int64",
         "type": "integer"
        }
       ],
       "ref": "55d0f554-5a09-4e80-bc8e-af2e845363c5",
       "rows": [
        [
         "0",
         "06037",
         "1189862",
         "2417109",
         "3728427"
        ],
        [
         "1",
         "06073",
         "593270",
         "841372",
         "1477786"
        ],
        [
         "2",
         "06059",
         "654815",
         "691731",
         "1390965"
        ],
        [
         "3",
         "06065",
         "463677",
         "451782",
         "940405"
        ],
        [
         "4",
         "06071",
         "378416",
         "362114",
         "761714"
        ]
       ],
       "shape": {
        "columns": 4,
        "rows": 5
       }
      },
      "text/html": [
       "<div>\n",
       "<style scoped>\n",
       "    .dataframe tbody tr th:only-of-type {\n",
       "        vertical-align: middle;\n",
       "    }\n",
       "\n",
       "    .dataframe tbody tr th {\n",
       "        vertical-align: top;\n",
       "    }\n",
       "\n",
       "    .dataframe thead th {\n",
       "        text-align: right;\n",
       "    }\n",
       "</style>\n",
       "<table border=\"1\" class=\"dataframe\">\n",
       "  <thead>\n",
       "    <tr style=\"text-align: right;\">\n",
       "      <th></th>\n",
       "      <th>fips</th>\n",
       "      <th>R_votes</th>\n",
       "      <th>D_votes</th>\n",
       "      <th>Total_votes</th>\n",
       "    </tr>\n",
       "  </thead>\n",
       "  <tbody>\n",
       "    <tr>\n",
       "      <th>0</th>\n",
       "      <td>06037</td>\n",
       "      <td>1189862</td>\n",
       "      <td>2417109</td>\n",
       "      <td>3728427</td>\n",
       "    </tr>\n",
       "    <tr>\n",
       "      <th>1</th>\n",
       "      <td>06073</td>\n",
       "      <td>593270</td>\n",
       "      <td>841372</td>\n",
       "      <td>1477786</td>\n",
       "    </tr>\n",
       "    <tr>\n",
       "      <th>2</th>\n",
       "      <td>06059</td>\n",
       "      <td>654815</td>\n",
       "      <td>691731</td>\n",
       "      <td>1390965</td>\n",
       "    </tr>\n",
       "    <tr>\n",
       "      <th>3</th>\n",
       "      <td>06065</td>\n",
       "      <td>463677</td>\n",
       "      <td>451782</td>\n",
       "      <td>940405</td>\n",
       "    </tr>\n",
       "    <tr>\n",
       "      <th>4</th>\n",
       "      <td>06071</td>\n",
       "      <td>378416</td>\n",
       "      <td>362114</td>\n",
       "      <td>761714</td>\n",
       "    </tr>\n",
       "  </tbody>\n",
       "</table>\n",
       "</div>"
      ],
      "text/plain": [
       "    fips  R_votes  D_votes  Total_votes\n",
       "0  06037  1189862  2417109      3728427\n",
       "1  06073   593270   841372      1477786\n",
       "2  06059   654815   691731      1390965\n",
       "3  06065   463677   451782       940405\n",
       "4  06071   378416   362114       761714"
      ]
     },
     "execution_count": 76,
     "metadata": {},
     "output_type": "execute_result"
    }
   ],
   "source": [
    "# get DC results\n",
    "url = f\"https://static01.nyt.com/elections-assets/pages/data/2024-11-05/results-washington-dc-president.json\"\n",
    "response = requests.get(url)\n",
    "data = response.json()\n",
    "race = data.get('races')\n",
    "race = race[0]\n",
    "units = race.get(\"reporting_units\")\n",
    "for unit in units:\n",
    "    name = unit.get('name')\n",
    "    level= unit.get('level')\n",
    "    if level == 'state':\n",
    "        fips = '11001'\n",
    "        candidates=unit.get(\"candidates\")\n",
    "        for candidate in candidates:\n",
    "            id = candidate['nyt_id']\n",
    "            if id == 'harris-k':\n",
    "                d_votes = candidate['votes']['total']\n",
    "            elif id == 'trump-d': \n",
    "                r_votes = candidate['votes']['total']\n",
    "            else: pass\n",
    "        total = unit.get('total_votes')\n",
    "        counties.loc[len(counties)] = [fips, r_votes, d_votes, total]\n",
    "    else: pass\n",
    "counties.head()"
   ]
  },
  {
   "cell_type": "code",
   "execution_count": 77,
   "id": "81d47276",
   "metadata": {},
   "outputs": [
    {
     "name": "stdout",
     "output_type": "stream",
     "text": [
      "Before aggregation: (4588, 4)\n",
      "After aggregation: (3113, 4)\n"
     ]
    }
   ],
   "source": [
    "print(f\"Before aggregation: {counties.shape}\")\n",
    "counties = counties.groupby(counties['fips'], as_index=False).aggregate({'fips': 'first', 'R_votes':\"sum\", 'D_votes': 'sum', 'Total_votes': 'sum'})\n",
    "print(f\"After aggregation: {agg_counties.shape}\")"
   ]
  },
  {
   "cell_type": "code",
   "execution_count": 78,
   "id": "7628dce4",
   "metadata": {},
   "outputs": [
    {
     "data": {
      "application/vnd.microsoft.datawrangler.viewer.v0+json": {
       "columns": [
        {
         "name": "index",
         "rawType": "int64",
         "type": "integer"
        },
        {
         "name": "fips",
         "rawType": "object",
         "type": "string"
        },
        {
         "name": "R_votes",
         "rawType": "int64",
         "type": "integer"
        },
        {
         "name": "D_votes",
         "rawType": "int64",
         "type": "integer"
        },
        {
         "name": "Total_votes",
         "rawType": "int64",
         "type": "integer"
        },
        {
         "name": "R_score",
         "rawType": "float64",
         "type": "float"
        },
        {
         "name": "D_score",
         "rawType": "float64",
         "type": "float"
        }
       ],
       "ref": "7546727f-1b65-4804-81c6-7c704ef7da11",
       "rows": [
        [
         "0",
         "01001",
         "20484",
         "7439",
         "28190",
         "0.7266406527137282",
         "0.2638879035118836"
        ],
        [
         "1",
         "01003",
         "95798",
         "24934",
         "121808",
         "0.7864672271115197",
         "0.20469919873899908"
        ],
        [
         "2",
         "01005",
         "5606",
         "4158",
         "9832",
         "0.5701790073230268",
         "0.4229048006509357"
        ],
        [
         "3",
         "01007",
         "7572",
         "1619",
         "9241",
         "0.8193918407098799",
         "0.1751974894491938"
        ],
        [
         "4",
         "01009",
         "25354",
         "2576",
         "28115",
         "0.9017961942023831",
         "0.09162368842255024"
        ]
       ],
       "shape": {
        "columns": 6,
        "rows": 5
       }
      },
      "text/html": [
       "<div>\n",
       "<style scoped>\n",
       "    .dataframe tbody tr th:only-of-type {\n",
       "        vertical-align: middle;\n",
       "    }\n",
       "\n",
       "    .dataframe tbody tr th {\n",
       "        vertical-align: top;\n",
       "    }\n",
       "\n",
       "    .dataframe thead th {\n",
       "        text-align: right;\n",
       "    }\n",
       "</style>\n",
       "<table border=\"1\" class=\"dataframe\">\n",
       "  <thead>\n",
       "    <tr style=\"text-align: right;\">\n",
       "      <th></th>\n",
       "      <th>fips</th>\n",
       "      <th>R_votes</th>\n",
       "      <th>D_votes</th>\n",
       "      <th>Total_votes</th>\n",
       "      <th>R_score</th>\n",
       "      <th>D_score</th>\n",
       "    </tr>\n",
       "  </thead>\n",
       "  <tbody>\n",
       "    <tr>\n",
       "      <th>0</th>\n",
       "      <td>01001</td>\n",
       "      <td>20484</td>\n",
       "      <td>7439</td>\n",
       "      <td>28190</td>\n",
       "      <td>0.726641</td>\n",
       "      <td>0.263888</td>\n",
       "    </tr>\n",
       "    <tr>\n",
       "      <th>1</th>\n",
       "      <td>01003</td>\n",
       "      <td>95798</td>\n",
       "      <td>24934</td>\n",
       "      <td>121808</td>\n",
       "      <td>0.786467</td>\n",
       "      <td>0.204699</td>\n",
       "    </tr>\n",
       "    <tr>\n",
       "      <th>2</th>\n",
       "      <td>01005</td>\n",
       "      <td>5606</td>\n",
       "      <td>4158</td>\n",
       "      <td>9832</td>\n",
       "      <td>0.570179</td>\n",
       "      <td>0.422905</td>\n",
       "    </tr>\n",
       "    <tr>\n",
       "      <th>3</th>\n",
       "      <td>01007</td>\n",
       "      <td>7572</td>\n",
       "      <td>1619</td>\n",
       "      <td>9241</td>\n",
       "      <td>0.819392</td>\n",
       "      <td>0.175197</td>\n",
       "    </tr>\n",
       "    <tr>\n",
       "      <th>4</th>\n",
       "      <td>01009</td>\n",
       "      <td>25354</td>\n",
       "      <td>2576</td>\n",
       "      <td>28115</td>\n",
       "      <td>0.901796</td>\n",
       "      <td>0.091624</td>\n",
       "    </tr>\n",
       "  </tbody>\n",
       "</table>\n",
       "</div>"
      ],
      "text/plain": [
       "    fips  R_votes  D_votes  Total_votes   R_score   D_score\n",
       "0  01001    20484     7439        28190  0.726641  0.263888\n",
       "1  01003    95798    24934       121808  0.786467  0.204699\n",
       "2  01005     5606     4158         9832  0.570179  0.422905\n",
       "3  01007     7572     1619         9241  0.819392  0.175197\n",
       "4  01009    25354     2576        28115  0.901796  0.091624"
      ]
     },
     "execution_count": 78,
     "metadata": {},
     "output_type": "execute_result"
    }
   ],
   "source": [
    "counties['R_score'] = counties['R_votes']/counties['Total_votes']\n",
    "counties['D_score'] = counties['D_votes']/counties['Total_votes']\n",
    "counties.head()"
   ]
  },
  {
   "cell_type": "code",
   "execution_count": null,
   "id": "109558c5",
   "metadata": {},
   "outputs": [],
   "source": []
  }
 ],
 "metadata": {
  "kernelspec": {
   "display_name": "Python 3",
   "language": "python",
   "name": "python3"
  },
  "language_info": {
   "codemirror_mode": {
    "name": "ipython",
    "version": 3
   },
   "file_extension": ".py",
   "mimetype": "text/x-python",
   "name": "python",
   "nbconvert_exporter": "python",
   "pygments_lexer": "ipython3",
   "version": "3.12.1"
  }
 },
 "nbformat": 4,
 "nbformat_minor": 5
}
