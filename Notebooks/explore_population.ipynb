{
 "cells": [
  {
   "cell_type": "markdown",
   "id": "7e6be71b",
   "metadata": {},
   "source": [
    "Explore population data for integration"
   ]
  },
  {
   "cell_type": "code",
   "execution_count": 1,
   "id": "75af5dc6",
   "metadata": {},
   "outputs": [
    {
     "data": {
      "application/vnd.microsoft.datawrangler.viewer.v0+json": {
       "columns": [
        {
         "name": "index",
         "rawType": "int64",
         "type": "integer"
        },
        {
         "name": "table with row headers in column A and column headers in rows 3 through 4 (leading dots indicate sub-parts)",
         "rawType": "object",
         "type": "unknown"
        },
        {
         "name": "Unnamed: 1",
         "rawType": "object",
         "type": "unknown"
        },
        {
         "name": "Unnamed: 2",
         "rawType": "object",
         "type": "unknown"
        },
        {
         "name": "Unnamed: 3",
         "rawType": "float64",
         "type": "float"
        },
        {
         "name": "Unnamed: 4",
         "rawType": "float64",
         "type": "float"
        },
        {
         "name": "Unnamed: 5",
         "rawType": "float64",
         "type": "float"
        },
        {
         "name": "Unnamed: 6",
         "rawType": "float64",
         "type": "float"
        }
       ],
       "ref": "261eee9e-19b5-471d-babf-83f0786e46f7",
       "rows": [
        [
         "0",
         "Annual Estimates of the Resident Population for Counties in the United States: April 1, 2020 to July 1, 2024",
         null,
         null,
         null,
         null,
         null,
         null
        ],
        [
         "1",
         "Geographic Area",
         "April 1, 2020 Estimates Base",
         "Population Estimate (as of July 1)",
         null,
         null,
         null,
         null
        ],
        [
         "2",
         null,
         null,
         "2020",
         "2021.0",
         "2022.0",
         "2023.0",
         "2024.0"
        ],
        [
         "3",
         "United States",
         "331515736",
         "331577720",
         "332099760.0",
         "334017321.0",
         "336806231.0",
         "340110988.0"
        ],
        [
         "4",
         ".Autauga County, Alabama",
         "58800",
         "58909",
         "59191.0",
         "59736.0",
         "60436.0",
         "61464.0"
        ]
       ],
       "shape": {
        "columns": 7,
        "rows": 5
       }
      },
      "text/html": [
       "<div>\n",
       "<style scoped>\n",
       "    .dataframe tbody tr th:only-of-type {\n",
       "        vertical-align: middle;\n",
       "    }\n",
       "\n",
       "    .dataframe tbody tr th {\n",
       "        vertical-align: top;\n",
       "    }\n",
       "\n",
       "    .dataframe thead th {\n",
       "        text-align: right;\n",
       "    }\n",
       "</style>\n",
       "<table border=\"1\" class=\"dataframe\">\n",
       "  <thead>\n",
       "    <tr style=\"text-align: right;\">\n",
       "      <th></th>\n",
       "      <th>table with row headers in column A and column headers in rows 3 through 4 (leading dots indicate sub-parts)</th>\n",
       "      <th>Unnamed: 1</th>\n",
       "      <th>Unnamed: 2</th>\n",
       "      <th>Unnamed: 3</th>\n",
       "      <th>Unnamed: 4</th>\n",
       "      <th>Unnamed: 5</th>\n",
       "      <th>Unnamed: 6</th>\n",
       "    </tr>\n",
       "  </thead>\n",
       "  <tbody>\n",
       "    <tr>\n",
       "      <th>0</th>\n",
       "      <td>Annual Estimates of the Resident Population fo...</td>\n",
       "      <td>NaN</td>\n",
       "      <td>NaN</td>\n",
       "      <td>NaN</td>\n",
       "      <td>NaN</td>\n",
       "      <td>NaN</td>\n",
       "      <td>NaN</td>\n",
       "    </tr>\n",
       "    <tr>\n",
       "      <th>1</th>\n",
       "      <td>Geographic Area</td>\n",
       "      <td>April 1, 2020 Estimates Base</td>\n",
       "      <td>Population Estimate (as of July 1)</td>\n",
       "      <td>NaN</td>\n",
       "      <td>NaN</td>\n",
       "      <td>NaN</td>\n",
       "      <td>NaN</td>\n",
       "    </tr>\n",
       "    <tr>\n",
       "      <th>2</th>\n",
       "      <td>NaN</td>\n",
       "      <td>NaN</td>\n",
       "      <td>2020</td>\n",
       "      <td>2021.0</td>\n",
       "      <td>2022.0</td>\n",
       "      <td>2023.0</td>\n",
       "      <td>2024.0</td>\n",
       "    </tr>\n",
       "    <tr>\n",
       "      <th>3</th>\n",
       "      <td>United States</td>\n",
       "      <td>331515736</td>\n",
       "      <td>331577720</td>\n",
       "      <td>332099760.0</td>\n",
       "      <td>334017321.0</td>\n",
       "      <td>336806231.0</td>\n",
       "      <td>340110988.0</td>\n",
       "    </tr>\n",
       "    <tr>\n",
       "      <th>4</th>\n",
       "      <td>.Autauga County, Alabama</td>\n",
       "      <td>58800</td>\n",
       "      <td>58909</td>\n",
       "      <td>59191.0</td>\n",
       "      <td>59736.0</td>\n",
       "      <td>60436.0</td>\n",
       "      <td>61464.0</td>\n",
       "    </tr>\n",
       "  </tbody>\n",
       "</table>\n",
       "</div>"
      ],
      "text/plain": [
       "  table with row headers in column A and column headers in rows 3 through 4 (leading dots indicate sub-parts)  \\\n",
       "0  Annual Estimates of the Resident Population fo...                                                            \n",
       "1                                    Geographic Area                                                            \n",
       "2                                                NaN                                                            \n",
       "3                                      United States                                                            \n",
       "4                           .Autauga County, Alabama                                                            \n",
       "\n",
       "                     Unnamed: 1                          Unnamed: 2  \\\n",
       "0                           NaN                                 NaN   \n",
       "1  April 1, 2020 Estimates Base  Population Estimate (as of July 1)   \n",
       "2                           NaN                                2020   \n",
       "3                     331515736                           331577720   \n",
       "4                         58800                               58909   \n",
       "\n",
       "    Unnamed: 3   Unnamed: 4   Unnamed: 5   Unnamed: 6  \n",
       "0          NaN          NaN          NaN          NaN  \n",
       "1          NaN          NaN          NaN          NaN  \n",
       "2       2021.0       2022.0       2023.0       2024.0  \n",
       "3  332099760.0  334017321.0  336806231.0  340110988.0  \n",
       "4      59191.0      59736.0      60436.0      61464.0  "
      ]
     },
     "execution_count": 1,
     "metadata": {},
     "output_type": "execute_result"
    }
   ],
   "source": [
    "import pandas as pd\n",
    "\n",
    "df = pd.read_excel(\"https://www2.census.gov/programs-surveys/popest/tables/2020-2024/counties/totals/co-est2024-pop.xlsx\")\n",
    "df.head()"
   ]
  },
  {
   "cell_type": "code",
   "execution_count": 2,
   "id": "489f4ab1",
   "metadata": {},
   "outputs": [
    {
     "data": {
      "application/vnd.microsoft.datawrangler.viewer.v0+json": {
       "columns": [
        {
         "name": "index",
         "rawType": "int64",
         "type": "integer"
        },
        {
         "name": "Region",
         "rawType": "object",
         "type": "string"
        },
        {
         "name": "Pop_Est_July_1_2024",
         "rawType": "float64",
         "type": "float"
        }
       ],
       "ref": "e150431c-6665-48f8-8867-d26cdba3ae1a",
       "rows": [
        [
         "0",
         ".Autauga County, Alabama",
         "61464.0"
        ],
        [
         "1",
         ".Baldwin County, Alabama",
         "261608.0"
        ],
        [
         "2",
         ".Barbour County, Alabama",
         "24358.0"
        ],
        [
         "3",
         ".Bibb County, Alabama",
         "22258.0"
        ],
        [
         "4",
         ".Blount County, Alabama",
         "60163.0"
        ]
       ],
       "shape": {
        "columns": 2,
        "rows": 5
       }
      },
      "text/html": [
       "<div>\n",
       "<style scoped>\n",
       "    .dataframe tbody tr th:only-of-type {\n",
       "        vertical-align: middle;\n",
       "    }\n",
       "\n",
       "    .dataframe tbody tr th {\n",
       "        vertical-align: top;\n",
       "    }\n",
       "\n",
       "    .dataframe thead th {\n",
       "        text-align: right;\n",
       "    }\n",
       "</style>\n",
       "<table border=\"1\" class=\"dataframe\">\n",
       "  <thead>\n",
       "    <tr style=\"text-align: right;\">\n",
       "      <th></th>\n",
       "      <th>Region</th>\n",
       "      <th>Pop_Est_July_1_2024</th>\n",
       "    </tr>\n",
       "  </thead>\n",
       "  <tbody>\n",
       "    <tr>\n",
       "      <th>0</th>\n",
       "      <td>.Autauga County, Alabama</td>\n",
       "      <td>61464.0</td>\n",
       "    </tr>\n",
       "    <tr>\n",
       "      <th>1</th>\n",
       "      <td>.Baldwin County, Alabama</td>\n",
       "      <td>261608.0</td>\n",
       "    </tr>\n",
       "    <tr>\n",
       "      <th>2</th>\n",
       "      <td>.Barbour County, Alabama</td>\n",
       "      <td>24358.0</td>\n",
       "    </tr>\n",
       "    <tr>\n",
       "      <th>3</th>\n",
       "      <td>.Bibb County, Alabama</td>\n",
       "      <td>22258.0</td>\n",
       "    </tr>\n",
       "    <tr>\n",
       "      <th>4</th>\n",
       "      <td>.Blount County, Alabama</td>\n",
       "      <td>60163.0</td>\n",
       "    </tr>\n",
       "  </tbody>\n",
       "</table>\n",
       "</div>"
      ],
      "text/plain": [
       "                     Region  Pop_Est_July_1_2024\n",
       "0  .Autauga County, Alabama              61464.0\n",
       "1  .Baldwin County, Alabama             261608.0\n",
       "2  .Barbour County, Alabama              24358.0\n",
       "3     .Bibb County, Alabama              22258.0\n",
       "4   .Blount County, Alabama              60163.0"
      ]
     },
     "execution_count": 2,
     "metadata": {},
     "output_type": "execute_result"
    }
   ],
   "source": [
    "# Download again, skipping headers and assigning new column names.\n",
    "df = pd.read_excel(\"https://www2.census.gov/programs-surveys/popest/tables/2020-2024/counties/totals/co-est2024-pop.xlsx\", usecols='A,G',skiprows=4, names=['Region','Pop_Est_July_1_2024'])\n",
    "df.head()"
   ]
  },
  {
   "cell_type": "code",
   "execution_count": 3,
   "id": "c9da81b3",
   "metadata": {},
   "outputs": [
    {
     "data": {
      "application/vnd.microsoft.datawrangler.viewer.v0+json": {
       "columns": [
        {
         "name": "index",
         "rawType": "int64",
         "type": "integer"
        },
        {
         "name": "Region",
         "rawType": "object",
         "type": "string"
        },
        {
         "name": "Pop_Est_July_1_2024",
         "rawType": "float64",
         "type": "float"
        }
       ],
       "ref": "ee872856-bb40-405d-b25a-8ad9a25fa3ea",
       "rows": [
        [
         "0",
         "Autauga County, Alabama",
         "61464.0"
        ],
        [
         "1",
         "Baldwin County, Alabama",
         "261608.0"
        ],
        [
         "2",
         "Barbour County, Alabama",
         "24358.0"
        ],
        [
         "3",
         "Bibb County, Alabama",
         "22258.0"
        ],
        [
         "4",
         "Blount County, Alabama",
         "60163.0"
        ]
       ],
       "shape": {
        "columns": 2,
        "rows": 5
       }
      },
      "text/html": [
       "<div>\n",
       "<style scoped>\n",
       "    .dataframe tbody tr th:only-of-type {\n",
       "        vertical-align: middle;\n",
       "    }\n",
       "\n",
       "    .dataframe tbody tr th {\n",
       "        vertical-align: top;\n",
       "    }\n",
       "\n",
       "    .dataframe thead th {\n",
       "        text-align: right;\n",
       "    }\n",
       "</style>\n",
       "<table border=\"1\" class=\"dataframe\">\n",
       "  <thead>\n",
       "    <tr style=\"text-align: right;\">\n",
       "      <th></th>\n",
       "      <th>Region</th>\n",
       "      <th>Pop_Est_July_1_2024</th>\n",
       "    </tr>\n",
       "  </thead>\n",
       "  <tbody>\n",
       "    <tr>\n",
       "      <th>0</th>\n",
       "      <td>Autauga County, Alabama</td>\n",
       "      <td>61464.0</td>\n",
       "    </tr>\n",
       "    <tr>\n",
       "      <th>1</th>\n",
       "      <td>Baldwin County, Alabama</td>\n",
       "      <td>261608.0</td>\n",
       "    </tr>\n",
       "    <tr>\n",
       "      <th>2</th>\n",
       "      <td>Barbour County, Alabama</td>\n",
       "      <td>24358.0</td>\n",
       "    </tr>\n",
       "    <tr>\n",
       "      <th>3</th>\n",
       "      <td>Bibb County, Alabama</td>\n",
       "      <td>22258.0</td>\n",
       "    </tr>\n",
       "    <tr>\n",
       "      <th>4</th>\n",
       "      <td>Blount County, Alabama</td>\n",
       "      <td>60163.0</td>\n",
       "    </tr>\n",
       "  </tbody>\n",
       "</table>\n",
       "</div>"
      ],
      "text/plain": [
       "                    Region  Pop_Est_July_1_2024\n",
       "0  Autauga County, Alabama              61464.0\n",
       "1  Baldwin County, Alabama             261608.0\n",
       "2  Barbour County, Alabama              24358.0\n",
       "3     Bibb County, Alabama              22258.0\n",
       "4   Blount County, Alabama              60163.0"
      ]
     },
     "execution_count": 3,
     "metadata": {},
     "output_type": "execute_result"
    }
   ],
   "source": [
    "df['Region'] = df['Region'].apply(lambda x: str(x).replace('.',''))\n",
    "df.head()"
   ]
  },
  {
   "cell_type": "code",
   "execution_count": 4,
   "id": "99c37c78",
   "metadata": {},
   "outputs": [
    {
     "data": {
      "application/vnd.microsoft.datawrangler.viewer.v0+json": {
       "columns": [
        {
         "name": "index",
         "rawType": "int64",
         "type": "integer"
        },
        {
         "name": "Region",
         "rawType": "object",
         "type": "string"
        },
        {
         "name": "Pop_Est_July_1_2024",
         "rawType": "float64",
         "type": "float"
        }
       ],
       "ref": "52100d69-430c-4b12-816b-92a3ffeeac12",
       "rows": [
        [
         "0",
         "Autauga County, Alabama",
         "61464.0"
        ],
        [
         "1",
         "Baldwin County, Alabama",
         "261608.0"
        ],
        [
         "2",
         "Barbour County, Alabama",
         "24358.0"
        ],
        [
         "3",
         "Bibb County, Alabama",
         "22258.0"
        ],
        [
         "4",
         "Blount County, Alabama",
         "60163.0"
        ],
        [
         "5",
         "Bullock County, Alabama",
         "9901.0"
        ],
        [
         "6",
         "Butler County, Alabama",
         "18256.0"
        ],
        [
         "7",
         "Calhoun County, Alabama",
         "116427.0"
        ],
        [
         "8",
         "Chambers County, Alabama",
         "33813.0"
        ],
        [
         "9",
         "Cherokee County, Alabama",
         "26138.0"
        ],
        [
         "10",
         "Chilton County, Alabama",
         "47262.0"
        ],
        [
         "11",
         "Choctaw County, Alabama",
         "12052.0"
        ],
        [
         "12",
         "Clarke County, Alabama",
         "22142.0"
        ],
        [
         "13",
         "Clay County, Alabama",
         "14239.0"
        ],
        [
         "14",
         "Cleburne County, Alabama",
         "15905.0"
        ],
        [
         "15",
         "Coffee County, Alabama",
         "56358.0"
        ],
        [
         "16",
         "Colbert County, Alabama",
         "58785.0"
        ],
        [
         "17",
         "Conecuh County, Alabama",
         "11109.0"
        ],
        [
         "18",
         "Coosa County, Alabama",
         "10291.0"
        ],
        [
         "19",
         "Covington County, Alabama",
         "37748.0"
        ],
        [
         "20",
         "Crenshaw County, Alabama",
         "13114.0"
        ],
        [
         "21",
         "Cullman County, Alabama",
         "92604.0"
        ],
        [
         "22",
         "Dale County, Alabama",
         "50067.0"
        ],
        [
         "23",
         "Dallas County, Alabama",
         "35545.0"
        ],
        [
         "24",
         "DeKalb County, Alabama",
         "73122.0"
        ],
        [
         "25",
         "Elmore County, Alabama",
         "91042.0"
        ],
        [
         "26",
         "Escambia County, Alabama",
         "36630.0"
        ],
        [
         "27",
         "Etowah County, Alabama",
         "103207.0"
        ],
        [
         "28",
         "Fayette County, Alabama",
         "15863.0"
        ],
        [
         "29",
         "Franklin County, Alabama",
         "31874.0"
        ],
        [
         "30",
         "Geneva County, Alabama",
         "27259.0"
        ],
        [
         "31",
         "Greene County, Alabama",
         "7127.0"
        ],
        [
         "32",
         "Hale County, Alabama",
         "15116.0"
        ],
        [
         "33",
         "Henry County, Alabama",
         "18141.0"
        ],
        [
         "34",
         "Houston County, Alabama",
         "109366.0"
        ],
        [
         "35",
         "Jackson County, Alabama",
         "53780.0"
        ],
        [
         "36",
         "Jefferson County, Alabama",
         "664744.0"
        ],
        [
         "37",
         "Lamar County, Alabama",
         "13543.0"
        ],
        [
         "38",
         "Lauderdale County, Alabama",
         "97502.0"
        ],
        [
         "39",
         "Lawrence County, Alabama",
         "33567.0"
        ],
        [
         "40",
         "Lee County, Alabama",
         "187847.0"
        ],
        [
         "41",
         "Limestone County, Alabama",
         "118942.0"
        ],
        [
         "42",
         "Lowndes County, Alabama",
         "9485.0"
        ],
        [
         "43",
         "Macon County, Alabama",
         "18159.0"
        ],
        [
         "44",
         "Madison County, Alabama",
         "423355.0"
        ],
        [
         "45",
         "Marengo County, Alabama",
         "18512.0"
        ],
        [
         "46",
         "Marion County, Alabama",
         "29323.0"
        ],
        [
         "47",
         "Marshall County, Alabama",
         "102156.0"
        ],
        [
         "48",
         "Mobile County, Alabama",
         "412339.0"
        ],
        [
         "49",
         "Monroe County, Alabama",
         "19057.0"
        ]
       ],
       "shape": {
        "columns": 2,
        "rows": 3140
       }
      },
      "text/html": [
       "<div>\n",
       "<style scoped>\n",
       "    .dataframe tbody tr th:only-of-type {\n",
       "        vertical-align: middle;\n",
       "    }\n",
       "\n",
       "    .dataframe tbody tr th {\n",
       "        vertical-align: top;\n",
       "    }\n",
       "\n",
       "    .dataframe thead th {\n",
       "        text-align: right;\n",
       "    }\n",
       "</style>\n",
       "<table border=\"1\" class=\"dataframe\">\n",
       "  <thead>\n",
       "    <tr style=\"text-align: right;\">\n",
       "      <th></th>\n",
       "      <th>Region</th>\n",
       "      <th>Pop_Est_July_1_2024</th>\n",
       "    </tr>\n",
       "  </thead>\n",
       "  <tbody>\n",
       "    <tr>\n",
       "      <th>0</th>\n",
       "      <td>Autauga County, Alabama</td>\n",
       "      <td>61464.0</td>\n",
       "    </tr>\n",
       "    <tr>\n",
       "      <th>1</th>\n",
       "      <td>Baldwin County, Alabama</td>\n",
       "      <td>261608.0</td>\n",
       "    </tr>\n",
       "    <tr>\n",
       "      <th>2</th>\n",
       "      <td>Barbour County, Alabama</td>\n",
       "      <td>24358.0</td>\n",
       "    </tr>\n",
       "    <tr>\n",
       "      <th>3</th>\n",
       "      <td>Bibb County, Alabama</td>\n",
       "      <td>22258.0</td>\n",
       "    </tr>\n",
       "    <tr>\n",
       "      <th>4</th>\n",
       "      <td>Blount County, Alabama</td>\n",
       "      <td>60163.0</td>\n",
       "    </tr>\n",
       "    <tr>\n",
       "      <th>...</th>\n",
       "      <td>...</td>\n",
       "      <td>...</td>\n",
       "    </tr>\n",
       "    <tr>\n",
       "      <th>3135</th>\n",
       "      <td>Park County, Wyoming</td>\n",
       "      <td>31082.0</td>\n",
       "    </tr>\n",
       "    <tr>\n",
       "      <th>3136</th>\n",
       "      <td>Platte County, Wyoming</td>\n",
       "      <td>8512.0</td>\n",
       "    </tr>\n",
       "    <tr>\n",
       "      <th>3137</th>\n",
       "      <td>Sheridan County, Wyoming</td>\n",
       "      <td>32978.0</td>\n",
       "    </tr>\n",
       "    <tr>\n",
       "      <th>3138</th>\n",
       "      <td>Sublette County, Wyoming</td>\n",
       "      <td>8965.0</td>\n",
       "    </tr>\n",
       "    <tr>\n",
       "      <th>3139</th>\n",
       "      <td>Sweetwater County, Wyoming</td>\n",
       "      <td>41273.0</td>\n",
       "    </tr>\n",
       "  </tbody>\n",
       "</table>\n",
       "<p>3140 rows × 2 columns</p>\n",
       "</div>"
      ],
      "text/plain": [
       "                          Region  Pop_Est_July_1_2024\n",
       "0        Autauga County, Alabama              61464.0\n",
       "1        Baldwin County, Alabama             261608.0\n",
       "2        Barbour County, Alabama              24358.0\n",
       "3           Bibb County, Alabama              22258.0\n",
       "4         Blount County, Alabama              60163.0\n",
       "...                          ...                  ...\n",
       "3135        Park County, Wyoming              31082.0\n",
       "3136      Platte County, Wyoming               8512.0\n",
       "3137    Sheridan County, Wyoming              32978.0\n",
       "3138    Sublette County, Wyoming               8965.0\n",
       "3139  Sweetwater County, Wyoming              41273.0\n",
       "\n",
       "[3140 rows x 2 columns]"
      ]
     },
     "execution_count": 4,
     "metadata": {},
     "output_type": "execute_result"
    }
   ],
   "source": [
    "df.head(-10)"
   ]
  },
  {
   "cell_type": "code",
   "execution_count": 5,
   "id": "1f325bae",
   "metadata": {},
   "outputs": [
    {
     "data": {
      "application/vnd.microsoft.datawrangler.viewer.v0+json": {
       "columns": [
        {
         "name": "index",
         "rawType": "int64",
         "type": "integer"
        },
        {
         "name": "Pop_Est_July_1_2024",
         "rawType": "float64",
         "type": "float"
        },
        {
         "name": "County",
         "rawType": "object",
         "type": "string"
        },
        {
         "name": "State",
         "rawType": "object",
         "type": "string"
        }
       ],
       "ref": "58e6c067-2ede-40df-8f46-0d4099c123d5",
       "rows": [
        [
         "0",
         "61464.0",
         "Autauga County",
         " Alabama"
        ],
        [
         "1",
         "261608.0",
         "Baldwin County",
         " Alabama"
        ],
        [
         "2",
         "24358.0",
         "Barbour County",
         " Alabama"
        ],
        [
         "3",
         "22258.0",
         "Bibb County",
         " Alabama"
        ],
        [
         "4",
         "60163.0",
         "Blount County",
         " Alabama"
        ],
        [
         "5",
         "9901.0",
         "Bullock County",
         " Alabama"
        ],
        [
         "6",
         "18256.0",
         "Butler County",
         " Alabama"
        ],
        [
         "7",
         "116427.0",
         "Calhoun County",
         " Alabama"
        ],
        [
         "8",
         "33813.0",
         "Chambers County",
         " Alabama"
        ],
        [
         "9",
         "26138.0",
         "Cherokee County",
         " Alabama"
        ],
        [
         "10",
         "47262.0",
         "Chilton County",
         " Alabama"
        ],
        [
         "11",
         "12052.0",
         "Choctaw County",
         " Alabama"
        ],
        [
         "12",
         "22142.0",
         "Clarke County",
         " Alabama"
        ],
        [
         "13",
         "14239.0",
         "Clay County",
         " Alabama"
        ],
        [
         "14",
         "15905.0",
         "Cleburne County",
         " Alabama"
        ],
        [
         "15",
         "56358.0",
         "Coffee County",
         " Alabama"
        ],
        [
         "16",
         "58785.0",
         "Colbert County",
         " Alabama"
        ],
        [
         "17",
         "11109.0",
         "Conecuh County",
         " Alabama"
        ],
        [
         "18",
         "10291.0",
         "Coosa County",
         " Alabama"
        ],
        [
         "19",
         "37748.0",
         "Covington County",
         " Alabama"
        ],
        [
         "20",
         "13114.0",
         "Crenshaw County",
         " Alabama"
        ],
        [
         "21",
         "92604.0",
         "Cullman County",
         " Alabama"
        ],
        [
         "22",
         "50067.0",
         "Dale County",
         " Alabama"
        ],
        [
         "23",
         "35545.0",
         "Dallas County",
         " Alabama"
        ],
        [
         "24",
         "73122.0",
         "DeKalb County",
         " Alabama"
        ],
        [
         "25",
         "91042.0",
         "Elmore County",
         " Alabama"
        ],
        [
         "26",
         "36630.0",
         "Escambia County",
         " Alabama"
        ],
        [
         "27",
         "103207.0",
         "Etowah County",
         " Alabama"
        ],
        [
         "28",
         "15863.0",
         "Fayette County",
         " Alabama"
        ],
        [
         "29",
         "31874.0",
         "Franklin County",
         " Alabama"
        ],
        [
         "30",
         "27259.0",
         "Geneva County",
         " Alabama"
        ],
        [
         "31",
         "7127.0",
         "Greene County",
         " Alabama"
        ],
        [
         "32",
         "15116.0",
         "Hale County",
         " Alabama"
        ],
        [
         "33",
         "18141.0",
         "Henry County",
         " Alabama"
        ],
        [
         "34",
         "109366.0",
         "Houston County",
         " Alabama"
        ],
        [
         "35",
         "53780.0",
         "Jackson County",
         " Alabama"
        ],
        [
         "36",
         "664744.0",
         "Jefferson County",
         " Alabama"
        ],
        [
         "37",
         "13543.0",
         "Lamar County",
         " Alabama"
        ],
        [
         "38",
         "97502.0",
         "Lauderdale County",
         " Alabama"
        ],
        [
         "39",
         "33567.0",
         "Lawrence County",
         " Alabama"
        ],
        [
         "40",
         "187847.0",
         "Lee County",
         " Alabama"
        ],
        [
         "41",
         "118942.0",
         "Limestone County",
         " Alabama"
        ],
        [
         "42",
         "9485.0",
         "Lowndes County",
         " Alabama"
        ],
        [
         "43",
         "18159.0",
         "Macon County",
         " Alabama"
        ],
        [
         "44",
         "423355.0",
         "Madison County",
         " Alabama"
        ],
        [
         "45",
         "18512.0",
         "Marengo County",
         " Alabama"
        ],
        [
         "46",
         "29323.0",
         "Marion County",
         " Alabama"
        ],
        [
         "47",
         "102156.0",
         "Marshall County",
         " Alabama"
        ],
        [
         "48",
         "412339.0",
         "Mobile County",
         " Alabama"
        ],
        [
         "49",
         "19057.0",
         "Monroe County",
         " Alabama"
        ]
       ],
       "shape": {
        "columns": 3,
        "rows": 3140
       }
      },
      "text/html": [
       "<div>\n",
       "<style scoped>\n",
       "    .dataframe tbody tr th:only-of-type {\n",
       "        vertical-align: middle;\n",
       "    }\n",
       "\n",
       "    .dataframe tbody tr th {\n",
       "        vertical-align: top;\n",
       "    }\n",
       "\n",
       "    .dataframe thead th {\n",
       "        text-align: right;\n",
       "    }\n",
       "</style>\n",
       "<table border=\"1\" class=\"dataframe\">\n",
       "  <thead>\n",
       "    <tr style=\"text-align: right;\">\n",
       "      <th></th>\n",
       "      <th>Pop_Est_July_1_2024</th>\n",
       "      <th>County</th>\n",
       "      <th>State</th>\n",
       "    </tr>\n",
       "  </thead>\n",
       "  <tbody>\n",
       "    <tr>\n",
       "      <th>0</th>\n",
       "      <td>61464.0</td>\n",
       "      <td>Autauga County</td>\n",
       "      <td>Alabama</td>\n",
       "    </tr>\n",
       "    <tr>\n",
       "      <th>1</th>\n",
       "      <td>261608.0</td>\n",
       "      <td>Baldwin County</td>\n",
       "      <td>Alabama</td>\n",
       "    </tr>\n",
       "    <tr>\n",
       "      <th>2</th>\n",
       "      <td>24358.0</td>\n",
       "      <td>Barbour County</td>\n",
       "      <td>Alabama</td>\n",
       "    </tr>\n",
       "    <tr>\n",
       "      <th>3</th>\n",
       "      <td>22258.0</td>\n",
       "      <td>Bibb County</td>\n",
       "      <td>Alabama</td>\n",
       "    </tr>\n",
       "    <tr>\n",
       "      <th>4</th>\n",
       "      <td>60163.0</td>\n",
       "      <td>Blount County</td>\n",
       "      <td>Alabama</td>\n",
       "    </tr>\n",
       "    <tr>\n",
       "      <th>...</th>\n",
       "      <td>...</td>\n",
       "      <td>...</td>\n",
       "      <td>...</td>\n",
       "    </tr>\n",
       "    <tr>\n",
       "      <th>3135</th>\n",
       "      <td>31082.0</td>\n",
       "      <td>Park County</td>\n",
       "      <td>Wyoming</td>\n",
       "    </tr>\n",
       "    <tr>\n",
       "      <th>3136</th>\n",
       "      <td>8512.0</td>\n",
       "      <td>Platte County</td>\n",
       "      <td>Wyoming</td>\n",
       "    </tr>\n",
       "    <tr>\n",
       "      <th>3137</th>\n",
       "      <td>32978.0</td>\n",
       "      <td>Sheridan County</td>\n",
       "      <td>Wyoming</td>\n",
       "    </tr>\n",
       "    <tr>\n",
       "      <th>3138</th>\n",
       "      <td>8965.0</td>\n",
       "      <td>Sublette County</td>\n",
       "      <td>Wyoming</td>\n",
       "    </tr>\n",
       "    <tr>\n",
       "      <th>3139</th>\n",
       "      <td>41273.0</td>\n",
       "      <td>Sweetwater County</td>\n",
       "      <td>Wyoming</td>\n",
       "    </tr>\n",
       "  </tbody>\n",
       "</table>\n",
       "<p>3140 rows × 3 columns</p>\n",
       "</div>"
      ],
      "text/plain": [
       "      Pop_Est_July_1_2024             County     State\n",
       "0                 61464.0     Autauga County   Alabama\n",
       "1                261608.0     Baldwin County   Alabama\n",
       "2                 24358.0     Barbour County   Alabama\n",
       "3                 22258.0        Bibb County   Alabama\n",
       "4                 60163.0      Blount County   Alabama\n",
       "...                   ...                ...       ...\n",
       "3135              31082.0        Park County   Wyoming\n",
       "3136               8512.0      Platte County   Wyoming\n",
       "3137              32978.0    Sheridan County   Wyoming\n",
       "3138               8965.0    Sublette County   Wyoming\n",
       "3139              41273.0  Sweetwater County   Wyoming\n",
       "\n",
       "[3140 rows x 3 columns]"
      ]
     },
     "execution_count": 5,
     "metadata": {},
     "output_type": "execute_result"
    }
   ],
   "source": [
    "# split \"Region\" into \"County\" and \"State\" by the comman\n",
    "\n",
    "df[[\"County\", \"State\"]] = df[\"Region\"].str.split(\",\", expand=True, n=1)\n",
    "df.drop(\"Region\", axis=1,inplace=True)\n",
    "df.head(-10)"
   ]
  },
  {
   "cell_type": "code",
   "execution_count": 6,
   "id": "48849eba",
   "metadata": {},
   "outputs": [
    {
     "data": {
      "application/vnd.microsoft.datawrangler.viewer.v0+json": {
       "columns": [
        {
         "name": "index",
         "rawType": "int64",
         "type": "integer"
        },
        {
         "name": "Pop_Est_July_1_2024",
         "rawType": "float64",
         "type": "float"
        },
        {
         "name": "County",
         "rawType": "object",
         "type": "string"
        },
        {
         "name": "State",
         "rawType": "object",
         "type": "unknown"
        }
       ],
       "ref": "e2140e6a-3e2c-41a8-add0-e6fc57f4576c",
       "rows": [
        [
         "0",
         "61464.0",
         "Autauga County",
         "AL"
        ],
        [
         "1",
         "261608.0",
         "Baldwin County",
         "AL"
        ],
        [
         "2",
         "24358.0",
         "Barbour County",
         "AL"
        ],
        [
         "3",
         "22258.0",
         "Bibb County",
         "AL"
        ],
        [
         "4",
         "60163.0",
         "Blount County",
         "AL"
        ],
        [
         "5",
         "9901.0",
         "Bullock County",
         "AL"
        ],
        [
         "6",
         "18256.0",
         "Butler County",
         "AL"
        ],
        [
         "7",
         "116427.0",
         "Calhoun County",
         "AL"
        ],
        [
         "8",
         "33813.0",
         "Chambers County",
         "AL"
        ],
        [
         "9",
         "26138.0",
         "Cherokee County",
         "AL"
        ],
        [
         "10",
         "47262.0",
         "Chilton County",
         "AL"
        ],
        [
         "11",
         "12052.0",
         "Choctaw County",
         "AL"
        ],
        [
         "12",
         "22142.0",
         "Clarke County",
         "AL"
        ],
        [
         "13",
         "14239.0",
         "Clay County",
         "AL"
        ],
        [
         "14",
         "15905.0",
         "Cleburne County",
         "AL"
        ],
        [
         "15",
         "56358.0",
         "Coffee County",
         "AL"
        ],
        [
         "16",
         "58785.0",
         "Colbert County",
         "AL"
        ],
        [
         "17",
         "11109.0",
         "Conecuh County",
         "AL"
        ],
        [
         "18",
         "10291.0",
         "Coosa County",
         "AL"
        ],
        [
         "19",
         "37748.0",
         "Covington County",
         "AL"
        ],
        [
         "20",
         "13114.0",
         "Crenshaw County",
         "AL"
        ],
        [
         "21",
         "92604.0",
         "Cullman County",
         "AL"
        ],
        [
         "22",
         "50067.0",
         "Dale County",
         "AL"
        ],
        [
         "23",
         "35545.0",
         "Dallas County",
         "AL"
        ],
        [
         "24",
         "73122.0",
         "DeKalb County",
         "AL"
        ],
        [
         "25",
         "91042.0",
         "Elmore County",
         "AL"
        ],
        [
         "26",
         "36630.0",
         "Escambia County",
         "AL"
        ],
        [
         "27",
         "103207.0",
         "Etowah County",
         "AL"
        ],
        [
         "28",
         "15863.0",
         "Fayette County",
         "AL"
        ],
        [
         "29",
         "31874.0",
         "Franklin County",
         "AL"
        ],
        [
         "30",
         "27259.0",
         "Geneva County",
         "AL"
        ],
        [
         "31",
         "7127.0",
         "Greene County",
         "AL"
        ],
        [
         "32",
         "15116.0",
         "Hale County",
         "AL"
        ],
        [
         "33",
         "18141.0",
         "Henry County",
         "AL"
        ],
        [
         "34",
         "109366.0",
         "Houston County",
         "AL"
        ],
        [
         "35",
         "53780.0",
         "Jackson County",
         "AL"
        ],
        [
         "36",
         "664744.0",
         "Jefferson County",
         "AL"
        ],
        [
         "37",
         "13543.0",
         "Lamar County",
         "AL"
        ],
        [
         "38",
         "97502.0",
         "Lauderdale County",
         "AL"
        ],
        [
         "39",
         "33567.0",
         "Lawrence County",
         "AL"
        ],
        [
         "40",
         "187847.0",
         "Lee County",
         "AL"
        ],
        [
         "41",
         "118942.0",
         "Limestone County",
         "AL"
        ],
        [
         "42",
         "9485.0",
         "Lowndes County",
         "AL"
        ],
        [
         "43",
         "18159.0",
         "Macon County",
         "AL"
        ],
        [
         "44",
         "423355.0",
         "Madison County",
         "AL"
        ],
        [
         "45",
         "18512.0",
         "Marengo County",
         "AL"
        ],
        [
         "46",
         "29323.0",
         "Marion County",
         "AL"
        ],
        [
         "47",
         "102156.0",
         "Marshall County",
         "AL"
        ],
        [
         "48",
         "412339.0",
         "Mobile County",
         "AL"
        ],
        [
         "49",
         "19057.0",
         "Monroe County",
         "AL"
        ]
       ],
       "shape": {
        "columns": 3,
        "rows": 3150
       }
      },
      "text/html": [
       "<div>\n",
       "<style scoped>\n",
       "    .dataframe tbody tr th:only-of-type {\n",
       "        vertical-align: middle;\n",
       "    }\n",
       "\n",
       "    .dataframe tbody tr th {\n",
       "        vertical-align: top;\n",
       "    }\n",
       "\n",
       "    .dataframe thead th {\n",
       "        text-align: right;\n",
       "    }\n",
       "</style>\n",
       "<table border=\"1\" class=\"dataframe\">\n",
       "  <thead>\n",
       "    <tr style=\"text-align: right;\">\n",
       "      <th></th>\n",
       "      <th>Pop_Est_July_1_2024</th>\n",
       "      <th>County</th>\n",
       "      <th>State</th>\n",
       "    </tr>\n",
       "  </thead>\n",
       "  <tbody>\n",
       "    <tr>\n",
       "      <th>0</th>\n",
       "      <td>61464.0</td>\n",
       "      <td>Autauga County</td>\n",
       "      <td>AL</td>\n",
       "    </tr>\n",
       "    <tr>\n",
       "      <th>1</th>\n",
       "      <td>261608.0</td>\n",
       "      <td>Baldwin County</td>\n",
       "      <td>AL</td>\n",
       "    </tr>\n",
       "    <tr>\n",
       "      <th>2</th>\n",
       "      <td>24358.0</td>\n",
       "      <td>Barbour County</td>\n",
       "      <td>AL</td>\n",
       "    </tr>\n",
       "    <tr>\n",
       "      <th>3</th>\n",
       "      <td>22258.0</td>\n",
       "      <td>Bibb County</td>\n",
       "      <td>AL</td>\n",
       "    </tr>\n",
       "    <tr>\n",
       "      <th>4</th>\n",
       "      <td>60163.0</td>\n",
       "      <td>Blount County</td>\n",
       "      <td>AL</td>\n",
       "    </tr>\n",
       "    <tr>\n",
       "      <th>...</th>\n",
       "      <td>...</td>\n",
       "      <td>...</td>\n",
       "      <td>...</td>\n",
       "    </tr>\n",
       "    <tr>\n",
       "      <th>3145</th>\n",
       "      <td>NaN</td>\n",
       "      <td>Note: The estimates are developed from a base ...</td>\n",
       "      <td>Vintage 2020 estimates, and 2020 Demographic A...</td>\n",
       "    </tr>\n",
       "    <tr>\n",
       "      <th>3146</th>\n",
       "      <td>NaN</td>\n",
       "      <td>Suggested Citation:</td>\n",
       "      <td>None</td>\n",
       "    </tr>\n",
       "    <tr>\n",
       "      <th>3147</th>\n",
       "      <td>NaN</td>\n",
       "      <td>Annual Estimates of the Resident Population fo...</td>\n",
       "      <td>2020 to July 1, 2024 (CO-EST2024-POP)</td>\n",
       "    </tr>\n",
       "    <tr>\n",
       "      <th>3148</th>\n",
       "      <td>NaN</td>\n",
       "      <td>Source: US Census Bureau</td>\n",
       "      <td>Population Division</td>\n",
       "    </tr>\n",
       "    <tr>\n",
       "      <th>3149</th>\n",
       "      <td>NaN</td>\n",
       "      <td>Release Date: March 2025</td>\n",
       "      <td>None</td>\n",
       "    </tr>\n",
       "  </tbody>\n",
       "</table>\n",
       "<p>3150 rows × 3 columns</p>\n",
       "</div>"
      ],
      "text/plain": [
       "      Pop_Est_July_1_2024                                             County  \\\n",
       "0                 61464.0                                     Autauga County   \n",
       "1                261608.0                                     Baldwin County   \n",
       "2                 24358.0                                     Barbour County   \n",
       "3                 22258.0                                        Bibb County   \n",
       "4                 60163.0                                      Blount County   \n",
       "...                   ...                                                ...   \n",
       "3145                  NaN  Note: The estimates are developed from a base ...   \n",
       "3146                  NaN                                Suggested Citation:   \n",
       "3147                  NaN  Annual Estimates of the Resident Population fo...   \n",
       "3148                  NaN                           Source: US Census Bureau   \n",
       "3149                  NaN                           Release Date: March 2025   \n",
       "\n",
       "                                                  State  \n",
       "0                                                    AL  \n",
       "1                                                    AL  \n",
       "2                                                    AL  \n",
       "3                                                    AL  \n",
       "4                                                    AL  \n",
       "...                                                 ...  \n",
       "3145  Vintage 2020 estimates, and 2020 Demographic A...  \n",
       "3146                                               None  \n",
       "3147              2020 to July 1, 2024 (CO-EST2024-POP)  \n",
       "3148                                Population Division  \n",
       "3149                                               None  \n",
       "\n",
       "[3150 rows x 3 columns]"
      ]
     },
     "execution_count": 6,
     "metadata": {},
     "output_type": "execute_result"
    }
   ],
   "source": [
    "us_state_to_abbrev = {\n",
    "    \"Alabama\": \"AL\",\n",
    "    \"Alaska\": \"AK\",\n",
    "    \"Arizona\": \"AZ\",\n",
    "    \"Arkansas\": \"AR\",\n",
    "    \"California\": \"CA\",\n",
    "    \"Colorado\": \"CO\",\n",
    "    \"Connecticut\": \"CT\",\n",
    "    \"Delaware\": \"DE\",\n",
    "    \"Florida\": \"FL\",\n",
    "    \"Georgia\": \"GA\",\n",
    "    \"Hawaii\": \"HI\",\n",
    "    \"Idaho\": \"ID\",\n",
    "    \"Illinois\": \"IL\",\n",
    "    \"Indiana\": \"IN\",\n",
    "    \"Iowa\": \"IA\",\n",
    "    \"Kansas\": \"KS\",\n",
    "    \"Kentucky\": \"KY\",\n",
    "    \"Louisiana\": \"LA\",\n",
    "    \"Maine\": \"ME\",\n",
    "    \"Maryland\": \"MD\",\n",
    "    \"Massachusetts\": \"MA\",\n",
    "    \"Michigan\": \"MI\",\n",
    "    \"Minnesota\": \"MN\",\n",
    "    \"Mississippi\": \"MS\",\n",
    "    \"Missouri\": \"MO\",\n",
    "    \"Montana\": \"MT\",\n",
    "    \"Nebraska\": \"NE\",\n",
    "    \"Nevada\": \"NV\",\n",
    "    \"New Hampshire\": \"NH\",\n",
    "    \"New Jersey\": \"NJ\",\n",
    "    \"New Mexico\": \"NM\",\n",
    "    \"New York\": \"NY\",\n",
    "    \"North Carolina\": \"NC\",\n",
    "    \"North Dakota\": \"ND\",\n",
    "    \"Ohio\": \"OH\",\n",
    "    \"Oklahoma\": \"OK\",\n",
    "    \"Oregon\": \"OR\",\n",
    "    \"Pennsylvania\": \"PA\",\n",
    "    \"Rhode Island\": \"RI\",\n",
    "    \"South Carolina\": \"SC\",\n",
    "    \"South Dakota\": \"SD\",\n",
    "    \"Tennessee\": \"TN\",\n",
    "    \"Texas\": \"TX\",\n",
    "    \"Utah\": \"UT\",\n",
    "    \"Vermont\": \"VT\",\n",
    "    \"Virginia\": \"VA\",\n",
    "    \"Washington\": \"WA\",\n",
    "    \"West Virginia\": \"WV\",\n",
    "    \"Wisconsin\": \"WI\",\n",
    "    \"Wyoming\": \"WY\",\n",
    "    \"District of Columbia\": \"DC\",\n",
    "    \"American Samoa\": \"AS\",\n",
    "    \"Guam\": \"GU\",\n",
    "    \"Northern Mariana Islands\": \"MP\",\n",
    "    \"Puerto Rico\": \"PR\",\n",
    "    \"United States Minor Outlying Islands\": \"UM\",\n",
    "    \"Virgin Islands, U.S.\": \"VI\",\n",
    "}\n",
    "df['State'] = df['State'].str.strip()\n",
    "df['State'] = df['State'].replace(us_state_to_abbrev)\n",
    "df\n"
   ]
  },
  {
   "cell_type": "code",
   "execution_count": 7,
   "id": "be2e68d3",
   "metadata": {},
   "outputs": [],
   "source": [
    "df.dropna(inplace=True)"
   ]
  },
  {
   "cell_type": "code",
   "execution_count": 8,
   "id": "0f8371f5",
   "metadata": {},
   "outputs": [
    {
     "data": {
      "application/vnd.microsoft.datawrangler.viewer.v0+json": {
       "columns": [
        {
         "name": "index",
         "rawType": "int64",
         "type": "integer"
        },
        {
         "name": "Pop_Est_July_1_2024",
         "rawType": "float64",
         "type": "float"
        },
        {
         "name": "County",
         "rawType": "object",
         "type": "string"
        },
        {
         "name": "State",
         "rawType": "object",
         "type": "string"
        }
       ],
       "ref": "7d9c6796-e8b3-4394-9005-7a57319b9353",
       "rows": [],
       "shape": {
        "columns": 3,
        "rows": 0
       }
      },
      "text/html": [
       "<div>\n",
       "<style scoped>\n",
       "    .dataframe tbody tr th:only-of-type {\n",
       "        vertical-align: middle;\n",
       "    }\n",
       "\n",
       "    .dataframe tbody tr th {\n",
       "        vertical-align: top;\n",
       "    }\n",
       "\n",
       "    .dataframe thead th {\n",
       "        text-align: right;\n",
       "    }\n",
       "</style>\n",
       "<table border=\"1\" class=\"dataframe\">\n",
       "  <thead>\n",
       "    <tr style=\"text-align: right;\">\n",
       "      <th></th>\n",
       "      <th>Pop_Est_July_1_2024</th>\n",
       "      <th>County</th>\n",
       "      <th>State</th>\n",
       "    </tr>\n",
       "  </thead>\n",
       "  <tbody>\n",
       "  </tbody>\n",
       "</table>\n",
       "</div>"
      ],
      "text/plain": [
       "Empty DataFrame\n",
       "Columns: [Pop_Est_July_1_2024, County, State]\n",
       "Index: []"
      ]
     },
     "execution_count": 8,
     "metadata": {},
     "output_type": "execute_result"
    }
   ],
   "source": [
    "none = df[df['Pop_Est_July_1_2024'].isna()]\n",
    "none\n"
   ]
  },
  {
   "cell_type": "code",
   "execution_count": 9,
   "id": "1f474d6c",
   "metadata": {},
   "outputs": [
    {
     "data": {
      "application/vnd.microsoft.datawrangler.viewer.v0+json": {
       "columns": [
        {
         "name": "index",
         "rawType": "int64",
         "type": "integer"
        },
        {
         "name": "Pop_Est_July_1_2024",
         "rawType": "int64",
         "type": "integer"
        },
        {
         "name": "County",
         "rawType": "object",
         "type": "string"
        },
        {
         "name": "State",
         "rawType": "object",
         "type": "string"
        }
       ],
       "ref": "4e2beb12-e3c6-42f0-8bb5-bc36dba0ff3e",
       "rows": [
        [
         "0",
         "61464",
         "Autauga County",
         "AL"
        ],
        [
         "1",
         "261608",
         "Baldwin County",
         "AL"
        ],
        [
         "2",
         "24358",
         "Barbour County",
         "AL"
        ],
        [
         "3",
         "22258",
         "Bibb County",
         "AL"
        ],
        [
         "4",
         "60163",
         "Blount County",
         "AL"
        ],
        [
         "5",
         "9901",
         "Bullock County",
         "AL"
        ],
        [
         "6",
         "18256",
         "Butler County",
         "AL"
        ],
        [
         "7",
         "116427",
         "Calhoun County",
         "AL"
        ],
        [
         "8",
         "33813",
         "Chambers County",
         "AL"
        ],
        [
         "9",
         "26138",
         "Cherokee County",
         "AL"
        ],
        [
         "10",
         "47262",
         "Chilton County",
         "AL"
        ],
        [
         "11",
         "12052",
         "Choctaw County",
         "AL"
        ],
        [
         "12",
         "22142",
         "Clarke County",
         "AL"
        ],
        [
         "13",
         "14239",
         "Clay County",
         "AL"
        ],
        [
         "14",
         "15905",
         "Cleburne County",
         "AL"
        ],
        [
         "15",
         "56358",
         "Coffee County",
         "AL"
        ],
        [
         "16",
         "58785",
         "Colbert County",
         "AL"
        ],
        [
         "17",
         "11109",
         "Conecuh County",
         "AL"
        ],
        [
         "18",
         "10291",
         "Coosa County",
         "AL"
        ],
        [
         "19",
         "37748",
         "Covington County",
         "AL"
        ],
        [
         "20",
         "13114",
         "Crenshaw County",
         "AL"
        ],
        [
         "21",
         "92604",
         "Cullman County",
         "AL"
        ],
        [
         "22",
         "50067",
         "Dale County",
         "AL"
        ],
        [
         "23",
         "35545",
         "Dallas County",
         "AL"
        ],
        [
         "24",
         "73122",
         "DeKalb County",
         "AL"
        ],
        [
         "25",
         "91042",
         "Elmore County",
         "AL"
        ],
        [
         "26",
         "36630",
         "Escambia County",
         "AL"
        ],
        [
         "27",
         "103207",
         "Etowah County",
         "AL"
        ],
        [
         "28",
         "15863",
         "Fayette County",
         "AL"
        ],
        [
         "29",
         "31874",
         "Franklin County",
         "AL"
        ],
        [
         "30",
         "27259",
         "Geneva County",
         "AL"
        ],
        [
         "31",
         "7127",
         "Greene County",
         "AL"
        ],
        [
         "32",
         "15116",
         "Hale County",
         "AL"
        ],
        [
         "33",
         "18141",
         "Henry County",
         "AL"
        ],
        [
         "34",
         "109366",
         "Houston County",
         "AL"
        ],
        [
         "35",
         "53780",
         "Jackson County",
         "AL"
        ],
        [
         "36",
         "664744",
         "Jefferson County",
         "AL"
        ],
        [
         "37",
         "13543",
         "Lamar County",
         "AL"
        ],
        [
         "38",
         "97502",
         "Lauderdale County",
         "AL"
        ],
        [
         "39",
         "33567",
         "Lawrence County",
         "AL"
        ],
        [
         "40",
         "187847",
         "Lee County",
         "AL"
        ],
        [
         "41",
         "118942",
         "Limestone County",
         "AL"
        ],
        [
         "42",
         "9485",
         "Lowndes County",
         "AL"
        ],
        [
         "43",
         "18159",
         "Macon County",
         "AL"
        ],
        [
         "44",
         "423355",
         "Madison County",
         "AL"
        ],
        [
         "45",
         "18512",
         "Marengo County",
         "AL"
        ],
        [
         "46",
         "29323",
         "Marion County",
         "AL"
        ],
        [
         "47",
         "102156",
         "Marshall County",
         "AL"
        ],
        [
         "48",
         "412339",
         "Mobile County",
         "AL"
        ],
        [
         "49",
         "19057",
         "Monroe County",
         "AL"
        ]
       ],
       "shape": {
        "columns": 3,
        "rows": 3144
       }
      },
      "text/html": [
       "<div>\n",
       "<style scoped>\n",
       "    .dataframe tbody tr th:only-of-type {\n",
       "        vertical-align: middle;\n",
       "    }\n",
       "\n",
       "    .dataframe tbody tr th {\n",
       "        vertical-align: top;\n",
       "    }\n",
       "\n",
       "    .dataframe thead th {\n",
       "        text-align: right;\n",
       "    }\n",
       "</style>\n",
       "<table border=\"1\" class=\"dataframe\">\n",
       "  <thead>\n",
       "    <tr style=\"text-align: right;\">\n",
       "      <th></th>\n",
       "      <th>Pop_Est_July_1_2024</th>\n",
       "      <th>County</th>\n",
       "      <th>State</th>\n",
       "    </tr>\n",
       "  </thead>\n",
       "  <tbody>\n",
       "    <tr>\n",
       "      <th>0</th>\n",
       "      <td>61464</td>\n",
       "      <td>Autauga County</td>\n",
       "      <td>AL</td>\n",
       "    </tr>\n",
       "    <tr>\n",
       "      <th>1</th>\n",
       "      <td>261608</td>\n",
       "      <td>Baldwin County</td>\n",
       "      <td>AL</td>\n",
       "    </tr>\n",
       "    <tr>\n",
       "      <th>2</th>\n",
       "      <td>24358</td>\n",
       "      <td>Barbour County</td>\n",
       "      <td>AL</td>\n",
       "    </tr>\n",
       "    <tr>\n",
       "      <th>3</th>\n",
       "      <td>22258</td>\n",
       "      <td>Bibb County</td>\n",
       "      <td>AL</td>\n",
       "    </tr>\n",
       "    <tr>\n",
       "      <th>4</th>\n",
       "      <td>60163</td>\n",
       "      <td>Blount County</td>\n",
       "      <td>AL</td>\n",
       "    </tr>\n",
       "    <tr>\n",
       "      <th>...</th>\n",
       "      <td>...</td>\n",
       "      <td>...</td>\n",
       "      <td>...</td>\n",
       "    </tr>\n",
       "    <tr>\n",
       "      <th>3139</th>\n",
       "      <td>41273</td>\n",
       "      <td>Sweetwater County</td>\n",
       "      <td>WY</td>\n",
       "    </tr>\n",
       "    <tr>\n",
       "      <th>3140</th>\n",
       "      <td>23272</td>\n",
       "      <td>Teton County</td>\n",
       "      <td>WY</td>\n",
       "    </tr>\n",
       "    <tr>\n",
       "      <th>3141</th>\n",
       "      <td>20621</td>\n",
       "      <td>Uinta County</td>\n",
       "      <td>WY</td>\n",
       "    </tr>\n",
       "    <tr>\n",
       "      <th>3142</th>\n",
       "      <td>7662</td>\n",
       "      <td>Washakie County</td>\n",
       "      <td>WY</td>\n",
       "    </tr>\n",
       "    <tr>\n",
       "      <th>3143</th>\n",
       "      <td>6866</td>\n",
       "      <td>Weston County</td>\n",
       "      <td>WY</td>\n",
       "    </tr>\n",
       "  </tbody>\n",
       "</table>\n",
       "<p>3144 rows × 3 columns</p>\n",
       "</div>"
      ],
      "text/plain": [
       "      Pop_Est_July_1_2024             County State\n",
       "0                   61464     Autauga County    AL\n",
       "1                  261608     Baldwin County    AL\n",
       "2                   24358     Barbour County    AL\n",
       "3                   22258        Bibb County    AL\n",
       "4                   60163      Blount County    AL\n",
       "...                   ...                ...   ...\n",
       "3139                41273  Sweetwater County    WY\n",
       "3140                23272       Teton County    WY\n",
       "3141                20621       Uinta County    WY\n",
       "3142                 7662    Washakie County    WY\n",
       "3143                 6866      Weston County    WY\n",
       "\n",
       "[3144 rows x 3 columns]"
      ]
     },
     "execution_count": 9,
     "metadata": {},
     "output_type": "execute_result"
    }
   ],
   "source": [
    "df['Pop_Est_July_1_2024'] = df['Pop_Est_July_1_2024'].astype(int)\n",
    "df"
   ]
  },
  {
   "cell_type": "code",
   "execution_count": 10,
   "id": "8a776ce9",
   "metadata": {},
   "outputs": [
    {
     "data": {
      "application/vnd.microsoft.datawrangler.viewer.v0+json": {
       "columns": [
        {
         "name": "index",
         "rawType": "int64",
         "type": "integer"
        },
        {
         "name": "Pop_Est_July_1_2024",
         "rawType": "int64",
         "type": "integer"
        },
        {
         "name": "County",
         "rawType": "object",
         "type": "string"
        },
        {
         "name": "State",
         "rawType": "object",
         "type": "string"
        },
        {
         "name": "Low_Pop_Score",
         "rawType": "float64",
         "type": "float"
        },
        {
         "name": "High_Pop_Score",
         "rawType": "float64",
         "type": "float"
        }
       ],
       "ref": "53a574a3-f9e7-4dd8-999f-cd3cd22c1f7e",
       "rows": [
        [
         "0",
         "61464",
         "Autauga County",
         "AL",
         "0.41459476758328495",
         "0.585405232416715"
        ],
        [
         "1",
         "261608",
         "Baldwin County",
         "AL",
         "0.2960905549898404",
         "0.7039094450101596"
        ],
        [
         "2",
         "24358",
         "Barbour County",
         "AL",
         "0.49032440319602544",
         "0.5096755968039746"
        ],
        [
         "3",
         "22258",
         "Bibb County",
         "AL",
         "0.4977009811057359",
         "0.5022990188942641"
        ],
        [
         "4",
         "60163",
         "Blount County",
         "AL",
         "0.41634518032229884",
         "0.5836548196777012"
        ],
        [
         "5",
         "9901",
         "Bullock County",
         "AL",
         "0.5639785949342606",
         "0.4360214050657394"
        ],
        [
         "6",
         "18256",
         "Butler County",
         "AL",
         "0.5139178545861397",
         "0.4860821454138603"
        ],
        [
         "7",
         "116427",
         "Calhoun County",
         "AL",
         "0.3623286509772836",
         "0.6376713490227164"
        ],
        [
         "8",
         "33813",
         "Chambers County",
         "AL",
         "0.4634894653423294",
         "0.5365105346576706"
        ],
        [
         "9",
         "26138",
         "Cherokee County",
         "AL",
         "0.4845538213702345",
         "0.5154461786297655"
        ],
        [
         "10",
         "47262",
         "Chilton County",
         "AL",
         "0.4360919302264078",
         "0.5639080697735922"
        ],
        [
         "11",
         "12052",
         "Choctaw County",
         "AL",
         "0.5478936803000384",
         "0.4521063196999616"
        ],
        [
         "12",
         "22142",
         "Clarke County",
         "AL",
         "0.49812849733527775",
         "0.5018715026647222"
        ],
        [
         "13",
         "14239",
         "Clay County",
         "AL",
         "0.534250267688973",
         "0.465749732311027"
        ],
        [
         "14",
         "15905",
         "Cleburne County",
         "AL",
         "0.5251972473981448",
         "0.4748027526018552"
        ],
        [
         "15",
         "56358",
         "Coffee County",
         "AL",
         "0.4216905961924651",
         "0.5783094038075349"
        ],
        [
         "16",
         "58785",
         "Colbert County",
         "AL",
         "0.4182409610430621",
         "0.5817590389569379"
        ],
        [
         "17",
         "11109",
         "Conecuh County",
         "AL",
         "0.5545597697335971",
         "0.4454402302664029"
        ],
        [
         "18",
         "10291",
         "Coosa County",
         "AL",
         "0.5608176576281845",
         "0.4391823423718155"
        ],
        [
         "19",
         "37748",
         "Covington County",
         "AL",
         "0.4544824016701251",
         "0.5455175983298749"
        ],
        [
         "20",
         "13114",
         "Crenshaw County",
         "AL",
         "0.5409842073156875",
         "0.4590157926843125"
        ],
        [
         "21",
         "92604",
         "Cullman County",
         "AL",
         "0.38105932268857345",
         "0.6189406773114265"
        ],
        [
         "22",
         "50067",
         "Dale County",
         "AL",
         "0.43137469551813645",
         "0.5686253044818635"
        ],
        [
         "23",
         "35545",
         "Dallas County",
         "AL",
         "0.4594023374812152",
         "0.5405976625187848"
        ],
        [
         "24",
         "73122",
         "DeKalb County",
         "AL",
         "0.4003848841211135",
         "0.5996151158788865"
        ],
        [
         "25",
         "91042",
         "Elmore County",
         "AL",
         "0.3824511540828257",
         "0.6175488459171743"
        ],
        [
         "26",
         "36630",
         "Escambia County",
         "AL",
         "0.45694224030222796",
         "0.543057759697772"
        ],
        [
         "27",
         "103207",
         "Etowah County",
         "AL",
         "0.37218994222805346",
         "0.6278100577719465"
        ],
        [
         "28",
         "15863",
         "Fayette County",
         "AL",
         "0.525413587120681",
         "0.474586412879319"
        ],
        [
         "29",
         "31874",
         "Franklin County",
         "AL",
         "0.4683211787933306",
         "0.5316788212066694"
        ],
        [
         "30",
         "27259",
         "Geneva County",
         "AL",
         "0.4811180111364737",
         "0.5188819888635263"
        ],
        [
         "31",
         "7127",
         "Greene County",
         "AL",
         "0.5908757442012688",
         "0.40912425579873124"
        ],
        [
         "32",
         "15116",
         "Hale County",
         "AL",
         "0.5293601043189226",
         "0.47063989568107745"
        ],
        [
         "33",
         "18141",
         "Henry County",
         "AL",
         "0.5144348781011124",
         "0.48556512189888756"
        ],
        [
         "34",
         "109366",
         "Houston County",
         "AL",
         "0.3674475194153298",
         "0.6325524805846702"
        ],
        [
         "35",
         "53780",
         "Jackson County",
         "AL",
         "0.425521503640365",
         "0.574478496359635"
        ],
        [
         "36",
         "664744",
         "Jefferson County",
         "AL",
         "0.21979118235989958",
         "0.7802088176401004"
        ],
        [
         "37",
         "13543",
         "Lamar County",
         "AL",
         "0.5383505448348381",
         "0.46164945516516187"
        ],
        [
         "38",
         "97502",
         "Lauderdale County",
         "AL",
         "0.3768423995985126",
         "0.6231576004014874"
        ],
        [
         "39",
         "33567",
         "Lawrence County",
         "AL",
         "0.46408688929250386",
         "0.5359131107074961"
        ],
        [
         "40",
         "187847",
         "Lee County",
         "AL",
         "0.32319012296905514",
         "0.6768098770309449"
        ],
        [
         "41",
         "118942",
         "Limestone County",
         "AL",
         "0.36058008567663646",
         "0.6394199143233635"
        ],
        [
         "42",
         "9485",
         "Lowndes County",
         "AL",
         "0.5674905455130184",
         "0.43250945448698164"
        ],
        [
         "43",
         "18159",
         "Macon County",
         "AL",
         "0.5143537366977531",
         "0.4856462633022469"
        ],
        [
         "44",
         "423355",
         "Madison County",
         "AL",
         "0.2567065304121282",
         "0.7432934695878718"
        ],
        [
         "45",
         "18512",
         "Marengo County",
         "AL",
         "0.5127785139817006",
         "0.4872214860182994"
        ],
        [
         "46",
         "29323",
         "Marion County",
         "AL",
         "0.47514627321797576",
         "0.5248537267820242"
        ],
        [
         "47",
         "102156",
         "Marshall County",
         "AL",
         "0.3730273961227829",
         "0.6269726038772171"
        ],
        [
         "48",
         "412339",
         "Mobile County",
         "AL",
         "0.2588636707425863",
         "0.7411363292574137"
        ],
        [
         "49",
         "19057",
         "Monroe County",
         "AL",
         "0.5104045510496155",
         "0.48959544895038454"
        ]
       ],
       "shape": {
        "columns": 5,
        "rows": 3144
       }
      },
      "text/html": [
       "<div>\n",
       "<style scoped>\n",
       "    .dataframe tbody tr th:only-of-type {\n",
       "        vertical-align: middle;\n",
       "    }\n",
       "\n",
       "    .dataframe tbody tr th {\n",
       "        vertical-align: top;\n",
       "    }\n",
       "\n",
       "    .dataframe thead th {\n",
       "        text-align: right;\n",
       "    }\n",
       "</style>\n",
       "<table border=\"1\" class=\"dataframe\">\n",
       "  <thead>\n",
       "    <tr style=\"text-align: right;\">\n",
       "      <th></th>\n",
       "      <th>Pop_Est_July_1_2024</th>\n",
       "      <th>County</th>\n",
       "      <th>State</th>\n",
       "      <th>Low_Pop_Score</th>\n",
       "      <th>High_Pop_Score</th>\n",
       "    </tr>\n",
       "  </thead>\n",
       "  <tbody>\n",
       "    <tr>\n",
       "      <th>0</th>\n",
       "      <td>61464</td>\n",
       "      <td>Autauga County</td>\n",
       "      <td>AL</td>\n",
       "      <td>0.414595</td>\n",
       "      <td>0.585405</td>\n",
       "    </tr>\n",
       "    <tr>\n",
       "      <th>1</th>\n",
       "      <td>261608</td>\n",
       "      <td>Baldwin County</td>\n",
       "      <td>AL</td>\n",
       "      <td>0.296091</td>\n",
       "      <td>0.703909</td>\n",
       "    </tr>\n",
       "    <tr>\n",
       "      <th>2</th>\n",
       "      <td>24358</td>\n",
       "      <td>Barbour County</td>\n",
       "      <td>AL</td>\n",
       "      <td>0.490324</td>\n",
       "      <td>0.509676</td>\n",
       "    </tr>\n",
       "    <tr>\n",
       "      <th>3</th>\n",
       "      <td>22258</td>\n",
       "      <td>Bibb County</td>\n",
       "      <td>AL</td>\n",
       "      <td>0.497701</td>\n",
       "      <td>0.502299</td>\n",
       "    </tr>\n",
       "    <tr>\n",
       "      <th>4</th>\n",
       "      <td>60163</td>\n",
       "      <td>Blount County</td>\n",
       "      <td>AL</td>\n",
       "      <td>0.416345</td>\n",
       "      <td>0.583655</td>\n",
       "    </tr>\n",
       "    <tr>\n",
       "      <th>...</th>\n",
       "      <td>...</td>\n",
       "      <td>...</td>\n",
       "      <td>...</td>\n",
       "      <td>...</td>\n",
       "      <td>...</td>\n",
       "    </tr>\n",
       "    <tr>\n",
       "      <th>3139</th>\n",
       "      <td>41273</td>\n",
       "      <td>Sweetwater County</td>\n",
       "      <td>WY</td>\n",
       "      <td>0.447178</td>\n",
       "      <td>0.552822</td>\n",
       "    </tr>\n",
       "    <tr>\n",
       "      <th>3140</th>\n",
       "      <td>23272</td>\n",
       "      <td>Teton County</td>\n",
       "      <td>WY</td>\n",
       "      <td>0.494056</td>\n",
       "      <td>0.505944</td>\n",
       "    </tr>\n",
       "    <tr>\n",
       "      <th>3141</th>\n",
       "      <td>20621</td>\n",
       "      <td>Uinta County</td>\n",
       "      <td>WY</td>\n",
       "      <td>0.503951</td>\n",
       "      <td>0.496049</td>\n",
       "    </tr>\n",
       "    <tr>\n",
       "      <th>3142</th>\n",
       "      <td>7662</td>\n",
       "      <td>Washakie County</td>\n",
       "      <td>WY</td>\n",
       "      <td>0.584954</td>\n",
       "      <td>0.415046</td>\n",
       "    </tr>\n",
       "    <tr>\n",
       "      <th>3143</th>\n",
       "      <td>6866</td>\n",
       "      <td>Weston County</td>\n",
       "      <td>WY</td>\n",
       "      <td>0.593928</td>\n",
       "      <td>0.406072</td>\n",
       "    </tr>\n",
       "  </tbody>\n",
       "</table>\n",
       "<p>3144 rows × 5 columns</p>\n",
       "</div>"
      ],
      "text/plain": [
       "      Pop_Est_July_1_2024             County State  Low_Pop_Score  \\\n",
       "0                   61464     Autauga County    AL       0.414595   \n",
       "1                  261608     Baldwin County    AL       0.296091   \n",
       "2                   24358     Barbour County    AL       0.490324   \n",
       "3                   22258        Bibb County    AL       0.497701   \n",
       "4                   60163      Blount County    AL       0.416345   \n",
       "...                   ...                ...   ...            ...   \n",
       "3139                41273  Sweetwater County    WY       0.447178   \n",
       "3140                23272       Teton County    WY       0.494056   \n",
       "3141                20621       Uinta County    WY       0.503951   \n",
       "3142                 7662    Washakie County    WY       0.584954   \n",
       "3143                 6866      Weston County    WY       0.593928   \n",
       "\n",
       "      High_Pop_Score  \n",
       "0           0.585405  \n",
       "1           0.703909  \n",
       "2           0.509676  \n",
       "3           0.502299  \n",
       "4           0.583655  \n",
       "...              ...  \n",
       "3139        0.552822  \n",
       "3140        0.505944  \n",
       "3141        0.496049  \n",
       "3142        0.415046  \n",
       "3143        0.406072  \n",
       "\n",
       "[3144 rows x 5 columns]"
      ]
     },
     "execution_count": 10,
     "metadata": {},
     "output_type": "execute_result"
    }
   ],
   "source": [
    "from sklearn.preprocessing import MinMaxScaler\n",
    "import numpy as np\n",
    "scaler = MinMaxScaler()\n",
    "df['Low_Pop_Score'] = 1 - scaler.fit_transform(np.log10(df[[\"Pop_Est_July_1_2024\"]]))\n",
    "df['High_Pop_Score'] = scaler.fit_transform(np.log10(df[[\"Pop_Est_July_1_2024\"]]))\n",
    "df"
   ]
  },
  {
   "cell_type": "code",
   "execution_count": null,
   "id": "b5fa0e7c",
   "metadata": {},
   "outputs": [],
   "source": []
  }
 ],
 "metadata": {
  "kernelspec": {
   "display_name": "Python 3",
   "language": "python",
   "name": "python3"
  },
  "language_info": {
   "codemirror_mode": {
    "name": "ipython",
    "version": 3
   },
   "file_extension": ".py",
   "mimetype": "text/x-python",
   "name": "python",
   "nbconvert_exporter": "python",
   "pygments_lexer": "ipython3",
   "version": "3.12.1"
  }
 },
 "nbformat": 4,
 "nbformat_minor": 5
}
